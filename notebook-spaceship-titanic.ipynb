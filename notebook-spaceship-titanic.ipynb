{
 "cells": [
  {
   "cell_type": "markdown",
   "id": "6a2c21f6",
   "metadata": {
    "papermill": {
     "duration": 0.016677,
     "end_time": "2024-08-01T09:59:12.847957",
     "exception": false,
     "start_time": "2024-08-01T09:59:12.831280",
     "status": "completed"
    },
    "tags": []
   },
   "source": [
    "# はじめに\n",
    "\n",
    "本ノートブックでは、[Spaceship Titanic](https://www.kaggle.com/competitions/spaceship-titanic) を題材として、データサイエンスの基礎を学ぶ。\n",
    "基本的な流れは、[Spaceship Titanic: A complete guide](https://www.kaggle.com/code/samuelcortinhas/spaceship-titanic-a-complete-guide) を参考させてもらっているが、（データサイエンスを学ぶことも1つの目的であるため）細かい記載の修正や解説などが追記されていることがある。\n",
    "\n",
    "In this notebook, we will learn the basics of data science in Japanese using the [Spaceship Titanic](https://www.kaggle.com/competitions/spaceship-titanic) as a subject. The basic flow is referenced from [Spaceship Titanic: A complete guide](https://www.kaggle.com/code/samuelcortinhas/spaceship-titanic-a-complete-guide), but there may be minor revisions and additional explanations to aid in learning data science."
   ]
  },
  {
   "cell_type": "code",
   "execution_count": 1,
   "id": "a9b48a09",
   "metadata": {
    "_cell_guid": "b1076dfc-b9ad-4769-8c92-a6c4dae69d19",
    "_uuid": "8f2839f25d086af736a60e9eeb907d3b93b6e0e5",
    "execution": {
     "iopub.execute_input": "2024-08-01T09:59:12.881373Z",
     "iopub.status.busy": "2024-08-01T09:59:12.880941Z",
     "iopub.status.idle": "2024-08-01T09:59:12.896962Z",
     "shell.execute_reply": "2024-08-01T09:59:12.895835Z"
    },
    "papermill": {
     "duration": 0.035738,
     "end_time": "2024-08-01T09:59:12.899474",
     "exception": false,
     "start_time": "2024-08-01T09:59:12.863736",
     "status": "completed"
    },
    "tags": []
   },
   "outputs": [
    {
     "name": "stdout",
     "output_type": "stream",
     "text": [
      "/kaggle/input/spaceship-titanic/sample_submission.csv\n",
      "/kaggle/input/spaceship-titanic/train.csv\n",
      "/kaggle/input/spaceship-titanic/test.csv\n"
     ]
    }
   ],
   "source": [
    "import os\n",
    "for dirname, _, filenames in os.walk('/kaggle/input'):\n",
    "    for filename in filenames:\n",
    "        print(os.path.join(dirname, filename))\n",
    "\n",
    "# You can write up to 20GB to the current directory (/kaggle/working/) that gets preserved as output when you create a version using \"Save & Run All\" \n",
    "# You can also write temporary files to /kaggle/temp/, but they won't be saved outside of the current session"
   ]
  },
  {
   "cell_type": "markdown",
   "id": "4a566b34",
   "metadata": {
    "papermill": {
     "duration": 0.015935,
     "end_time": "2024-08-01T09:59:12.931734",
     "exception": false,
     "start_time": "2024-08-01T09:59:12.915799",
     "status": "completed"
    },
    "tags": []
   },
   "source": [
    "# ライブラリ\n",
    "\n",
    "まず初めに、データサイエンスで用いる基本的なライブラリをimportする。\n",
    "\n",
    "First of all, we will import the basic libraries used in data science."
   ]
  },
  {
   "cell_type": "code",
   "execution_count": 2,
   "id": "9460edb3",
   "metadata": {
    "execution": {
     "iopub.execute_input": "2024-08-01T09:59:12.965435Z",
     "iopub.status.busy": "2024-08-01T09:59:12.964970Z",
     "iopub.status.idle": "2024-08-01T09:59:15.517489Z",
     "shell.execute_reply": "2024-08-01T09:59:15.516264Z"
    },
    "papermill": {
     "duration": 2.57248,
     "end_time": "2024-08-01T09:59:15.520244",
     "exception": false,
     "start_time": "2024-08-01T09:59:12.947764",
     "status": "completed"
    },
    "tags": []
   },
   "outputs": [],
   "source": [
    "import numpy as np # linear algebra\n",
    "import pandas as pd # data processing, CSV file I/O (e.g. pd.read_csv)\n",
    "import matplotlib.pyplot as plt\n",
    "%matplotlib inline\n",
    "import seaborn as sns\n",
    "sns.set(style = 'darkgrid', font_scale = 1.4)"
   ]
  },
  {
   "cell_type": "markdown",
   "id": "1308eb71",
   "metadata": {
    "papermill": {
     "duration": 0.015535,
     "end_time": "2024-08-01T09:59:15.552498",
     "exception": false,
     "start_time": "2024-08-01T09:59:15.536963",
     "status": "completed"
    },
    "tags": []
   },
   "source": [
    "以下では、警告を無視する設定を追加する。例えば、ページ下部のコード内における `sns.histplot` では、PandasとSeabornのバージョンの互換性に関する警告（将来のバージョンで、非推奨となる機能が含まれている）が出るが、ここでは（本質的でないと判断し）抑制する。\n",
    "\n",
    "Here, we will add a setting to ignore warnings. For example, in the code at the bottom of the page, the `sns.histplot` function may generate a warning regarding the compatibility between the Pandas and Seaborn versions, indicating that certain features will be deprecated in future versions. We will suppress these warnings as they are deemed non-essential in this context.\""
   ]
  },
  {
   "cell_type": "markdown",
   "id": "52215bc0",
   "metadata": {
    "papermill": {
     "duration": 0.015478,
     "end_time": "2024-08-01T09:59:15.583832",
     "exception": false,
     "start_time": "2024-08-01T09:59:15.568354",
     "status": "completed"
    },
    "tags": []
   },
   "source": [
    "If anyone knows the reason why seaborn is abbreviated as `sns`, please let me know. I would think that if seaborn were to be abbreviated, it would be `sb` ..."
   ]
  },
  {
   "cell_type": "code",
   "execution_count": 3,
   "id": "0971be42",
   "metadata": {
    "execution": {
     "iopub.execute_input": "2024-08-01T09:59:15.618528Z",
     "iopub.status.busy": "2024-08-01T09:59:15.617929Z",
     "iopub.status.idle": "2024-08-01T09:59:15.623882Z",
     "shell.execute_reply": "2024-08-01T09:59:15.622582Z"
    },
    "papermill": {
     "duration": 0.027016,
     "end_time": "2024-08-01T09:59:15.627043",
     "exception": false,
     "start_time": "2024-08-01T09:59:15.600027",
     "status": "completed"
    },
    "tags": []
   },
   "outputs": [],
   "source": [
    "import warnings\n",
    "warnings.filterwarnings('ignore', category=FutureWarning)"
   ]
  },
  {
   "cell_type": "markdown",
   "id": "245e0077",
   "metadata": {
    "papermill": {
     "duration": 0.015529,
     "end_time": "2024-08-01T09:59:15.662262",
     "exception": false,
     "start_time": "2024-08-01T09:59:15.646733",
     "status": "completed"
    },
    "tags": []
   },
   "source": [
    "本ノートブックでは、いくつかの機械学習モデルの中から、適切なモデルを選択することを行う。そのため、複数のモデルをインポートする。"
   ]
  },
  {
   "cell_type": "code",
   "execution_count": 4,
   "id": "4280b178",
   "metadata": {
    "execution": {
     "iopub.execute_input": "2024-08-01T09:59:15.696174Z",
     "iopub.status.busy": "2024-08-01T09:59:15.695750Z",
     "iopub.status.idle": "2024-08-01T09:59:18.170457Z",
     "shell.execute_reply": "2024-08-01T09:59:18.169343Z"
    },
    "papermill": {
     "duration": 2.494999,
     "end_time": "2024-08-01T09:59:18.173368",
     "exception": false,
     "start_time": "2024-08-01T09:59:15.678369",
     "status": "completed"
    },
    "tags": []
   },
   "outputs": [],
   "source": [
    "# ロジスティック回帰モデル\n",
    "from sklearn.linear_model import LogisticRegression\n",
    "\n",
    "# k最近傍法\n",
    "from sklearn.neighbors import KNeighborsClassifier\n",
    "\n",
    "# サポートベクトルマシン\n",
    "from sklearn.svm import SVC\n",
    "\n",
    "# ランダムフォレスト\n",
    "from sklearn.ensemble import RandomForestClassifier\n",
    "\n",
    "# LigthGBM（勾配ブースティング）\n",
    "from lightgbm import LGBMClassifier\n",
    "\n",
    "# CatBoost\n",
    "from catboost import CatBoostClassifier\n",
    "\n",
    "# Gaussianナイーブベイズ\n",
    "from sklearn.naive_bayes import GaussianNB"
   ]
  },
  {
   "cell_type": "code",
   "execution_count": 5,
   "id": "2ac8a5b2",
   "metadata": {
    "execution": {
     "iopub.execute_input": "2024-08-01T09:59:18.208336Z",
     "iopub.status.busy": "2024-08-01T09:59:18.207689Z",
     "iopub.status.idle": "2024-08-01T09:59:18.213191Z",
     "shell.execute_reply": "2024-08-01T09:59:18.211888Z"
    },
    "papermill": {
     "duration": 0.026214,
     "end_time": "2024-08-01T09:59:18.215767",
     "exception": false,
     "start_time": "2024-08-01T09:59:18.189553",
     "status": "completed"
    },
    "tags": []
   },
   "outputs": [],
   "source": [
    "# モデルを比較する際に、トレーニング時間を計りたいため\n",
    "import time"
   ]
  },
  {
   "cell_type": "code",
   "execution_count": 6,
   "id": "fa42b66c",
   "metadata": {
    "execution": {
     "iopub.execute_input": "2024-08-01T09:59:18.249294Z",
     "iopub.status.busy": "2024-08-01T09:59:18.248910Z",
     "iopub.status.idle": "2024-08-01T09:59:18.254482Z",
     "shell.execute_reply": "2024-08-01T09:59:18.253201Z"
    },
    "papermill": {
     "duration": 0.025454,
     "end_time": "2024-08-01T09:59:18.257206",
     "exception": false,
     "start_time": "2024-08-01T09:59:18.231752",
     "status": "completed"
    },
    "tags": []
   },
   "outputs": [],
   "source": [
    "from sklearn.model_selection import train_test_split, GridSearchCV, StratifiedKFold"
   ]
  },
  {
   "cell_type": "markdown",
   "id": "ad6219f2",
   "metadata": {
    "papermill": {
     "duration": 0.015875,
     "end_time": "2024-08-01T09:59:18.288754",
     "exception": false,
     "start_time": "2024-08-01T09:59:18.272879",
     "status": "completed"
    },
    "tags": []
   },
   "source": [
    "# データの基本的な部分を確認"
   ]
  },
  {
   "cell_type": "code",
   "execution_count": 7,
   "id": "b84a4e01",
   "metadata": {
    "execution": {
     "iopub.execute_input": "2024-08-01T09:59:18.322739Z",
     "iopub.status.busy": "2024-08-01T09:59:18.322315Z",
     "iopub.status.idle": "2024-08-01T09:59:18.418369Z",
     "shell.execute_reply": "2024-08-01T09:59:18.417049Z"
    },
    "papermill": {
     "duration": 0.116153,
     "end_time": "2024-08-01T09:59:18.421044",
     "exception": false,
     "start_time": "2024-08-01T09:59:18.304891",
     "status": "completed"
    },
    "tags": []
   },
   "outputs": [
    {
     "name": "stdout",
     "output_type": "stream",
     "text": [
      "train.shape: (8693, 14)\n",
      "test.shape: (4277, 13)\n"
     ]
    }
   ],
   "source": [
    "train = pd.read_csv('../input/spaceship-titanic/train.csv')\n",
    "test = pd.read_csv('../input/spaceship-titanic/test.csv')\n",
    "\n",
    "# (行数, 列数)\n",
    "print('train.shape:', train.shape)\n",
    "print('test.shape:', test.shape)"
   ]
  },
  {
   "cell_type": "code",
   "execution_count": 8,
   "id": "19aa5e19",
   "metadata": {
    "execution": {
     "iopub.execute_input": "2024-08-01T09:59:18.454550Z",
     "iopub.status.busy": "2024-08-01T09:59:18.454175Z",
     "iopub.status.idle": "2024-08-01T09:59:18.492342Z",
     "shell.execute_reply": "2024-08-01T09:59:18.491071Z"
    },
    "papermill": {
     "duration": 0.058038,
     "end_time": "2024-08-01T09:59:18.495092",
     "exception": false,
     "start_time": "2024-08-01T09:59:18.437054",
     "status": "completed"
    },
    "tags": []
   },
   "outputs": [
    {
     "data": {
      "text/html": [
       "<div>\n",
       "<style scoped>\n",
       "    .dataframe tbody tr th:only-of-type {\n",
       "        vertical-align: middle;\n",
       "    }\n",
       "\n",
       "    .dataframe tbody tr th {\n",
       "        vertical-align: top;\n",
       "    }\n",
       "\n",
       "    .dataframe thead th {\n",
       "        text-align: right;\n",
       "    }\n",
       "</style>\n",
       "<table border=\"1\" class=\"dataframe\">\n",
       "  <thead>\n",
       "    <tr style=\"text-align: right;\">\n",
       "      <th></th>\n",
       "      <th>PassengerId</th>\n",
       "      <th>HomePlanet</th>\n",
       "      <th>CryoSleep</th>\n",
       "      <th>Cabin</th>\n",
       "      <th>Destination</th>\n",
       "      <th>Age</th>\n",
       "      <th>VIP</th>\n",
       "      <th>RoomService</th>\n",
       "      <th>FoodCourt</th>\n",
       "      <th>ShoppingMall</th>\n",
       "      <th>Spa</th>\n",
       "      <th>VRDeck</th>\n",
       "      <th>Name</th>\n",
       "      <th>Transported</th>\n",
       "    </tr>\n",
       "  </thead>\n",
       "  <tbody>\n",
       "    <tr>\n",
       "      <th>0</th>\n",
       "      <td>0001_01</td>\n",
       "      <td>Europa</td>\n",
       "      <td>False</td>\n",
       "      <td>B/0/P</td>\n",
       "      <td>TRAPPIST-1e</td>\n",
       "      <td>39.0</td>\n",
       "      <td>False</td>\n",
       "      <td>0.0</td>\n",
       "      <td>0.0</td>\n",
       "      <td>0.0</td>\n",
       "      <td>0.0</td>\n",
       "      <td>0.0</td>\n",
       "      <td>Maham Ofracculy</td>\n",
       "      <td>False</td>\n",
       "    </tr>\n",
       "    <tr>\n",
       "      <th>1</th>\n",
       "      <td>0002_01</td>\n",
       "      <td>Earth</td>\n",
       "      <td>False</td>\n",
       "      <td>F/0/S</td>\n",
       "      <td>TRAPPIST-1e</td>\n",
       "      <td>24.0</td>\n",
       "      <td>False</td>\n",
       "      <td>109.0</td>\n",
       "      <td>9.0</td>\n",
       "      <td>25.0</td>\n",
       "      <td>549.0</td>\n",
       "      <td>44.0</td>\n",
       "      <td>Juanna Vines</td>\n",
       "      <td>True</td>\n",
       "    </tr>\n",
       "    <tr>\n",
       "      <th>2</th>\n",
       "      <td>0003_01</td>\n",
       "      <td>Europa</td>\n",
       "      <td>False</td>\n",
       "      <td>A/0/S</td>\n",
       "      <td>TRAPPIST-1e</td>\n",
       "      <td>58.0</td>\n",
       "      <td>True</td>\n",
       "      <td>43.0</td>\n",
       "      <td>3576.0</td>\n",
       "      <td>0.0</td>\n",
       "      <td>6715.0</td>\n",
       "      <td>49.0</td>\n",
       "      <td>Altark Susent</td>\n",
       "      <td>False</td>\n",
       "    </tr>\n",
       "    <tr>\n",
       "      <th>3</th>\n",
       "      <td>0003_02</td>\n",
       "      <td>Europa</td>\n",
       "      <td>False</td>\n",
       "      <td>A/0/S</td>\n",
       "      <td>TRAPPIST-1e</td>\n",
       "      <td>33.0</td>\n",
       "      <td>False</td>\n",
       "      <td>0.0</td>\n",
       "      <td>1283.0</td>\n",
       "      <td>371.0</td>\n",
       "      <td>3329.0</td>\n",
       "      <td>193.0</td>\n",
       "      <td>Solam Susent</td>\n",
       "      <td>False</td>\n",
       "    </tr>\n",
       "    <tr>\n",
       "      <th>4</th>\n",
       "      <td>0004_01</td>\n",
       "      <td>Earth</td>\n",
       "      <td>False</td>\n",
       "      <td>F/1/S</td>\n",
       "      <td>TRAPPIST-1e</td>\n",
       "      <td>16.0</td>\n",
       "      <td>False</td>\n",
       "      <td>303.0</td>\n",
       "      <td>70.0</td>\n",
       "      <td>151.0</td>\n",
       "      <td>565.0</td>\n",
       "      <td>2.0</td>\n",
       "      <td>Willy Santantines</td>\n",
       "      <td>True</td>\n",
       "    </tr>\n",
       "  </tbody>\n",
       "</table>\n",
       "</div>"
      ],
      "text/plain": [
       "  PassengerId HomePlanet CryoSleep  Cabin  Destination   Age    VIP  \\\n",
       "0     0001_01     Europa     False  B/0/P  TRAPPIST-1e  39.0  False   \n",
       "1     0002_01      Earth     False  F/0/S  TRAPPIST-1e  24.0  False   \n",
       "2     0003_01     Europa     False  A/0/S  TRAPPIST-1e  58.0   True   \n",
       "3     0003_02     Europa     False  A/0/S  TRAPPIST-1e  33.0  False   \n",
       "4     0004_01      Earth     False  F/1/S  TRAPPIST-1e  16.0  False   \n",
       "\n",
       "   RoomService  FoodCourt  ShoppingMall     Spa  VRDeck               Name  \\\n",
       "0          0.0        0.0           0.0     0.0     0.0    Maham Ofracculy   \n",
       "1        109.0        9.0          25.0   549.0    44.0       Juanna Vines   \n",
       "2         43.0     3576.0           0.0  6715.0    49.0      Altark Susent   \n",
       "3          0.0     1283.0         371.0  3329.0   193.0       Solam Susent   \n",
       "4        303.0       70.0         151.0   565.0     2.0  Willy Santantines   \n",
       "\n",
       "   Transported  \n",
       "0        False  \n",
       "1         True  \n",
       "2        False  \n",
       "3        False  \n",
       "4         True  "
      ]
     },
     "execution_count": 8,
     "metadata": {},
     "output_type": "execute_result"
    }
   ],
   "source": [
    "train.head()"
   ]
  },
  {
   "cell_type": "markdown",
   "id": "91ee2453",
   "metadata": {
    "papermill": {
     "duration": 0.015929,
     "end_time": "2024-08-01T09:59:18.527811",
     "exception": false,
     "start_time": "2024-08-01T09:59:18.511882",
     "status": "completed"
    },
    "tags": []
   },
   "source": [
    "# 欠損値の確認\n",
    "\n",
    "なぜ、欠損値を確認するか？"
   ]
  },
  {
   "cell_type": "code",
   "execution_count": 9,
   "id": "01627757",
   "metadata": {
    "execution": {
     "iopub.execute_input": "2024-08-01T09:59:18.561903Z",
     "iopub.status.busy": "2024-08-01T09:59:18.561519Z",
     "iopub.status.idle": "2024-08-01T09:59:18.580064Z",
     "shell.execute_reply": "2024-08-01T09:59:18.578787Z"
    },
    "papermill": {
     "duration": 0.038632,
     "end_time": "2024-08-01T09:59:18.582678",
     "exception": false,
     "start_time": "2024-08-01T09:59:18.544046",
     "status": "completed"
    },
    "tags": []
   },
   "outputs": [
    {
     "data": {
      "text/plain": [
       "PassengerId       0\n",
       "HomePlanet      201\n",
       "CryoSleep       217\n",
       "Cabin           199\n",
       "Destination     182\n",
       "Age             179\n",
       "VIP             203\n",
       "RoomService     181\n",
       "FoodCourt       183\n",
       "ShoppingMall    208\n",
       "Spa             183\n",
       "VRDeck          188\n",
       "Name            200\n",
       "Transported       0\n",
       "dtype: int64"
      ]
     },
     "execution_count": 9,
     "metadata": {},
     "output_type": "execute_result"
    }
   ],
   "source": [
    "# trainの欠損値\n",
    "train.isna().sum()"
   ]
  },
  {
   "cell_type": "code",
   "execution_count": 10,
   "id": "b50e4213",
   "metadata": {
    "execution": {
     "iopub.execute_input": "2024-08-01T09:59:18.618341Z",
     "iopub.status.busy": "2024-08-01T09:59:18.617928Z",
     "iopub.status.idle": "2024-08-01T09:59:18.630533Z",
     "shell.execute_reply": "2024-08-01T09:59:18.629456Z"
    },
    "papermill": {
     "duration": 0.033266,
     "end_time": "2024-08-01T09:59:18.632839",
     "exception": false,
     "start_time": "2024-08-01T09:59:18.599573",
     "status": "completed"
    },
    "tags": []
   },
   "outputs": [
    {
     "data": {
      "text/plain": [
       "PassengerId       0\n",
       "HomePlanet       87\n",
       "CryoSleep        93\n",
       "Cabin           100\n",
       "Destination      92\n",
       "Age              91\n",
       "VIP              93\n",
       "RoomService      82\n",
       "FoodCourt       106\n",
       "ShoppingMall     98\n",
       "Spa             101\n",
       "VRDeck           80\n",
       "Name             94\n",
       "dtype: int64"
      ]
     },
     "execution_count": 10,
     "metadata": {},
     "output_type": "execute_result"
    }
   ],
   "source": [
    "# testの欠損値\n",
    "test.isna().sum()"
   ]
  },
  {
   "cell_type": "markdown",
   "id": "85ce3ee2",
   "metadata": {
    "papermill": {
     "duration": 0.016311,
     "end_time": "2024-08-01T09:59:18.665947",
     "exception": false,
     "start_time": "2024-08-01T09:59:18.649636",
     "status": "completed"
    },
    "tags": []
   },
   "source": [
    "# 重複行の確認\n",
    "\n",
    "なぜ、重複行を確認するか"
   ]
  },
  {
   "cell_type": "code",
   "execution_count": 11,
   "id": "de97084c",
   "metadata": {
    "execution": {
     "iopub.execute_input": "2024-08-01T09:59:18.701339Z",
     "iopub.status.busy": "2024-08-01T09:59:18.700914Z",
     "iopub.status.idle": "2024-08-01T09:59:18.728995Z",
     "shell.execute_reply": "2024-08-01T09:59:18.727869Z"
    },
    "papermill": {
     "duration": 0.049054,
     "end_time": "2024-08-01T09:59:18.731729",
     "exception": false,
     "start_time": "2024-08-01T09:59:18.682675",
     "status": "completed"
    },
    "tags": []
   },
   "outputs": [
    {
     "data": {
      "text/plain": [
       "0"
      ]
     },
     "execution_count": 11,
     "metadata": {},
     "output_type": "execute_result"
    }
   ],
   "source": [
    "train.duplicated().sum()"
   ]
  },
  {
   "cell_type": "code",
   "execution_count": 12,
   "id": "f3fd19b1",
   "metadata": {
    "execution": {
     "iopub.execute_input": "2024-08-01T09:59:18.767758Z",
     "iopub.status.busy": "2024-08-01T09:59:18.767318Z",
     "iopub.status.idle": "2024-08-01T09:59:18.785295Z",
     "shell.execute_reply": "2024-08-01T09:59:18.784182Z"
    },
    "papermill": {
     "duration": 0.038879,
     "end_time": "2024-08-01T09:59:18.787670",
     "exception": false,
     "start_time": "2024-08-01T09:59:18.748791",
     "status": "completed"
    },
    "tags": []
   },
   "outputs": [
    {
     "data": {
      "text/plain": [
       "0"
      ]
     },
     "execution_count": 12,
     "metadata": {},
     "output_type": "execute_result"
    }
   ],
   "source": [
    "test.duplicated().sum()"
   ]
  },
  {
   "cell_type": "markdown",
   "id": "5e7d2f4a",
   "metadata": {
    "papermill": {
     "duration": 0.016944,
     "end_time": "2024-08-01T09:59:18.821352",
     "exception": false,
     "start_time": "2024-08-01T09:59:18.804408",
     "status": "completed"
    },
    "tags": []
   },
   "source": [
    "# 特徴量について\n",
    "\n",
    "特徴量は、以下の3つに分類できる：\n",
    "\n",
    "- continuous\n",
    "- categorical\n",
    "- descriptive / qualitative"
   ]
  },
  {
   "cell_type": "markdown",
   "id": "87dea217",
   "metadata": {
    "papermill": {
     "duration": 0.016348,
     "end_time": "2024-08-01T09:59:18.854528",
     "exception": false,
     "start_time": "2024-08-01T09:59:18.838180",
     "status": "completed"
    },
    "tags": []
   },
   "source": [
    "| 特徴量|aaa |\n",
    "|---|--- |\n",
    "| PassengerId | descriptive / qualitative |\n",
    "| HomePlanet |categorical |\n",
    "| CryoSleep |categorical |\n",
    "| Cabin | descriptive / qualitative |\n",
    "| Destination |categorical |\n",
    "| Age |continuous |\n",
    "| VIP | categorical |\n",
    "| RoomService |continuous |\n",
    "| FoodCourt |continuous |\n",
    "| ShoppingMail |continuous |\n",
    "| Spa | continuous|\n",
    "| VRDeck |continuous |\n",
    "| Name |descriptive / qualitative |"
   ]
  },
  {
   "cell_type": "code",
   "execution_count": 13,
   "id": "421dd104",
   "metadata": {
    "execution": {
     "iopub.execute_input": "2024-08-01T09:59:18.948104Z",
     "iopub.status.busy": "2024-08-01T09:59:18.947705Z",
     "iopub.status.idle": "2024-08-01T09:59:18.956281Z",
     "shell.execute_reply": "2024-08-01T09:59:18.955200Z"
    },
    "papermill": {
     "duration": 0.087057,
     "end_time": "2024-08-01T09:59:18.958546",
     "exception": false,
     "start_time": "2024-08-01T09:59:18.871489",
     "status": "completed"
    },
    "tags": []
   },
   "outputs": [
    {
     "data": {
      "text/plain": [
       "PassengerId      object\n",
       "HomePlanet       object\n",
       "CryoSleep        object\n",
       "Cabin            object\n",
       "Destination      object\n",
       "Age             float64\n",
       "VIP              object\n",
       "RoomService     float64\n",
       "FoodCourt       float64\n",
       "ShoppingMall    float64\n",
       "Spa             float64\n",
       "VRDeck          float64\n",
       "Name             object\n",
       "Transported        bool\n",
       "dtype: object"
      ]
     },
     "execution_count": 13,
     "metadata": {},
     "output_type": "execute_result"
    }
   ],
   "source": [
    "# datatypeの確認\n",
    "train.dtypes"
   ]
  },
  {
   "cell_type": "markdown",
   "id": "03512f32",
   "metadata": {
    "papermill": {
     "duration": 0.016907,
     "end_time": "2024-08-01T09:59:18.992939",
     "exception": false,
     "start_time": "2024-08-01T09:59:18.976032",
     "status": "completed"
    },
    "tags": []
   },
   "source": [
    "# 探索的データ解析\n",
    "\n",
    "EDA（Exploratory Data Analysis）"
   ]
  },
  {
   "cell_type": "code",
   "execution_count": 14,
   "id": "2937e250",
   "metadata": {
    "execution": {
     "iopub.execute_input": "2024-08-01T09:59:19.031042Z",
     "iopub.status.busy": "2024-08-01T09:59:19.030614Z",
     "iopub.status.idle": "2024-08-01T09:59:19.306717Z",
     "shell.execute_reply": "2024-08-01T09:59:19.304781Z"
    },
    "papermill": {
     "duration": 0.29962,
     "end_time": "2024-08-01T09:59:19.311456",
     "exception": false,
     "start_time": "2024-08-01T09:59:19.011836",
     "status": "completed"
    },
    "tags": []
   },
   "outputs": [
    {
     "data": {
      "text/plain": [
       "Text(0.5, 1.0, 'Target distribution')"
      ]
     },
     "execution_count": 14,
     "metadata": {},
     "output_type": "execute_result"
    },
    {
     "data": {
      "image/png": "[encoded data removed]",
      "text/plain": [
       "<Figure size 600x600 with 1 Axes>"
      ]
     },
     "metadata": {},
     "output_type": "display_data"
    }
   ],
   "source": [
    "# 図のサイズ\n",
    "plt.figure(figsize=(6, 6))\n",
    "\n",
    "train['Transported'].value_counts().plot.pie(\n",
    "    autopct = '%1.1f%%'\n",
    ").set_title(\"Target distribution\")"
   ]
  },
  {
   "cell_type": "markdown",
   "id": "79c68c8c",
   "metadata": {
    "papermill": {
     "duration": 0.017446,
     "end_time": "2024-08-01T09:59:19.354123",
     "exception": false,
     "start_time": "2024-08-01T09:59:19.336677",
     "status": "completed"
    },
    "tags": []
   },
   "source": [
    "上図から、半分半分ということがわかる"
   ]
  },
  {
   "cell_type": "markdown",
   "id": "bc404ac1",
   "metadata": {
    "papermill": {
     "duration": 0.017617,
     "end_time": "2024-08-01T09:59:19.390114",
     "exception": false,
     "start_time": "2024-08-01T09:59:19.372497",
     "status": "completed"
    },
    "tags": []
   },
   "source": [
    "乗客の年齢分布について視覚化する"
   ]
  },
  {
   "cell_type": "code",
   "execution_count": 15,
   "id": "443ca95a",
   "metadata": {
    "execution": {
     "iopub.execute_input": "2024-08-01T09:59:19.427590Z",
     "iopub.status.busy": "2024-08-01T09:59:19.427170Z",
     "iopub.status.idle": "2024-08-01T09:59:20.454306Z",
     "shell.execute_reply": "2024-08-01T09:59:20.453063Z"
    },
    "papermill": {
     "duration": 1.049487,
     "end_time": "2024-08-01T09:59:20.457525",
     "exception": false,
     "start_time": "2024-08-01T09:59:19.408038",
     "status": "completed"
    },
    "tags": []
   },
   "outputs": [
    {
     "data": {
      "text/plain": [
       "Text(0.5, 0, 'Age (years)')"
      ]
     },
     "execution_count": 15,
     "metadata": {},
     "output_type": "execute_result"
    },
    {
     "data": {
      "image/png": "[encoded data removed]",
      "text/plain": [
       "<Figure size 1000x400 with 1 Axes>"
      ]
     },
     "metadata": {},
     "output_type": "display_data"
    }
   ],
   "source": [
    "plt.figure(figsize = (10, 4))\n",
    "\n",
    "sns.histplot(data=train, x ='Age', hue='Transported', binwidth=1, kde = True)\n",
    "\n",
    "plt.title('Age distribution')\n",
    "plt.xlabel('Age (years)')"
   ]
  },
  {
   "cell_type": "markdown",
   "id": "13e36352",
   "metadata": {
    "papermill": {
     "duration": 0.018568,
     "end_time": "2024-08-01T09:59:20.495608",
     "exception": false,
     "start_time": "2024-08-01T09:59:20.477040",
     "status": "completed"
    },
    "tags": []
   },
   "source": [
    "0-18, 18-25, 25以上で、傾向が読み取れる"
   ]
  },
  {
   "cell_type": "markdown",
   "id": "fb560a9c",
   "metadata": {
    "papermill": {
     "duration": 0.018512,
     "end_time": "2024-08-01T09:59:20.533194",
     "exception": false,
     "start_time": "2024-08-01T09:59:20.514682",
     "status": "completed"
    },
    "tags": []
   },
   "source": [
    "RoomService, FoodCourt, ShoppingMall, Spa, VRDeck\n",
    "→この辺は、金銭系なので、それで、まとめて傾向を見る\n",
    "→傾向が似ていれば、1つの特徴量を作れる\n",
    "\n",
    "...後で加筆するかも"
   ]
  },
  {
   "cell_type": "markdown",
   "id": "31da61b8",
   "metadata": {
    "papermill": {
     "duration": 0.01849,
     "end_time": "2024-08-01T09:59:20.570529",
     "exception": false,
     "start_time": "2024-08-01T09:59:20.552039",
     "status": "completed"
    },
    "tags": []
   },
   "source": [
    "カテゴリ変数の視覚化"
   ]
  },
  {
   "cell_type": "code",
   "execution_count": 16,
   "id": "64987908",
   "metadata": {
    "execution": {
     "iopub.execute_input": "2024-08-01T09:59:20.610964Z",
     "iopub.status.busy": "2024-08-01T09:59:20.610549Z",
     "iopub.status.idle": "2024-08-01T09:59:21.795236Z",
     "shell.execute_reply": "2024-08-01T09:59:21.794047Z"
    },
    "papermill": {
     "duration": 1.208767,
     "end_time": "2024-08-01T09:59:21.798276",
     "exception": false,
     "start_time": "2024-08-01T09:59:20.589509",
     "status": "completed"
    },
    "tags": []
   },
   "outputs": [
    {
     "data": {
      "image/png": "[encoded data removed]",
      "text/plain": [
       "<Figure size 1000x1600 with 4 Axes>"
      ]
     },
     "metadata": {},
     "output_type": "display_data"
    }
   ],
   "source": [
    "cat_feats = ['HomePlanet', 'CryoSleep', 'Destination', 'VIP']\n",
    "\n",
    "fig = plt.figure(figsize = (10, 16))\n",
    "\n",
    "for i, var_name in enumerate(cat_feats):\n",
    "    ax = fig.add_subplot(4, 1, i + 1)\n",
    "    sns.countplot(\n",
    "        data = train,\n",
    "        x = var_name,\n",
    "        axes = ax,\n",
    "        hue = 'Transported'\n",
    "    )\n",
    "    ax.set_title(var_name)\n",
    "\n",
    "fig.tight_layout()\n",
    "plt.show()"
   ]
  },
  {
   "cell_type": "code",
   "execution_count": 17,
   "id": "177e5553",
   "metadata": {
    "execution": {
     "iopub.execute_input": "2024-08-01T09:59:21.842301Z",
     "iopub.status.busy": "2024-08-01T09:59:21.841676Z",
     "iopub.status.idle": "2024-08-01T09:59:21.856858Z",
     "shell.execute_reply": "2024-08-01T09:59:21.855722Z"
    },
    "papermill": {
     "duration": 0.040143,
     "end_time": "2024-08-01T09:59:21.859288",
     "exception": false,
     "start_time": "2024-08-01T09:59:21.819145",
     "status": "completed"
    },
    "tags": []
   },
   "outputs": [
    {
     "data": {
      "text/html": [
       "<div>\n",
       "<style scoped>\n",
       "    .dataframe tbody tr th:only-of-type {\n",
       "        vertical-align: middle;\n",
       "    }\n",
       "\n",
       "    .dataframe tbody tr th {\n",
       "        vertical-align: top;\n",
       "    }\n",
       "\n",
       "    .dataframe thead th {\n",
       "        text-align: right;\n",
       "    }\n",
       "</style>\n",
       "<table border=\"1\" class=\"dataframe\">\n",
       "  <thead>\n",
       "    <tr style=\"text-align: right;\">\n",
       "      <th></th>\n",
       "      <th>PassengerId</th>\n",
       "      <th>Cabin</th>\n",
       "      <th>Name</th>\n",
       "    </tr>\n",
       "  </thead>\n",
       "  <tbody>\n",
       "    <tr>\n",
       "      <th>0</th>\n",
       "      <td>0001_01</td>\n",
       "      <td>B/0/P</td>\n",
       "      <td>Maham Ofracculy</td>\n",
       "    </tr>\n",
       "    <tr>\n",
       "      <th>1</th>\n",
       "      <td>0002_01</td>\n",
       "      <td>F/0/S</td>\n",
       "      <td>Juanna Vines</td>\n",
       "    </tr>\n",
       "    <tr>\n",
       "      <th>2</th>\n",
       "      <td>0003_01</td>\n",
       "      <td>A/0/S</td>\n",
       "      <td>Altark Susent</td>\n",
       "    </tr>\n",
       "    <tr>\n",
       "      <th>3</th>\n",
       "      <td>0003_02</td>\n",
       "      <td>A/0/S</td>\n",
       "      <td>Solam Susent</td>\n",
       "    </tr>\n",
       "    <tr>\n",
       "      <th>4</th>\n",
       "      <td>0004_01</td>\n",
       "      <td>F/1/S</td>\n",
       "      <td>Willy Santantines</td>\n",
       "    </tr>\n",
       "  </tbody>\n",
       "</table>\n",
       "</div>"
      ],
      "text/plain": [
       "  PassengerId  Cabin               Name\n",
       "0     0001_01  B/0/P    Maham Ofracculy\n",
       "1     0002_01  F/0/S       Juanna Vines\n",
       "2     0003_01  A/0/S      Altark Susent\n",
       "3     0003_02  A/0/S       Solam Susent\n",
       "4     0004_01  F/1/S  Willy Santantines"
      ]
     },
     "execution_count": 17,
     "metadata": {},
     "output_type": "execute_result"
    }
   ],
   "source": [
    "qual_feats = ['PassengerId', 'Cabin', 'Name']\n",
    "\n",
    "train[qual_feats].head()"
   ]
  },
  {
   "cell_type": "markdown",
   "id": "478fd60d",
   "metadata": {
    "papermill": {
     "duration": 0.021731,
     "end_time": "2024-08-01T09:59:21.903061",
     "exception": false,
     "start_time": "2024-08-01T09:59:21.881330",
     "status": "completed"
    },
    "tags": []
   },
   "source": [
    "### Feature engineering\n",
    "\n",
    "#### 年齢について\n",
    "\n",
    "新しい特徴量である `Age_group` を定義する"
   ]
  },
  {
   "cell_type": "code",
   "execution_count": 18,
   "id": "b3376c0e",
   "metadata": {
    "execution": {
     "iopub.execute_input": "2024-08-01T09:59:21.948927Z",
     "iopub.status.busy": "2024-08-01T09:59:21.948500Z",
     "iopub.status.idle": "2024-08-01T09:59:21.966121Z",
     "shell.execute_reply": "2024-08-01T09:59:21.964952Z"
    },
    "papermill": {
     "duration": 0.043749,
     "end_time": "2024-08-01T09:59:21.968935",
     "exception": false,
     "start_time": "2024-08-01T09:59:21.925186",
     "status": "completed"
    },
    "tags": []
   },
   "outputs": [],
   "source": [
    "# train\n",
    "# Age_groupを定義し、空文字で初期化する\n",
    "# np.nanによる初期化だと、データタイプの不整合が起きる\n",
    "train['Age_group'] = ''\n",
    "\n",
    "train.loc[train['Age'] <= 12, 'Age_group'] = 'Age_0-12'\n",
    "train.loc[(train['Age'] > 12) & (train['Age'] < 18), 'Age_group'] = 'Age_13-17'\n",
    "train.loc[(train['Age'] >= 18 ) & (train['Age'] <= 25), 'Age_group'] = 'Age_18-25'\n",
    "train.loc[(train['Age'] > 25 ) & (train['Age'] <= 30), 'Age_group'] = 'Age_26-30'\n",
    "train.loc[(train['Age'] >= 30 ) & (train['Age'] <= 50), 'Age_group'] = 'Age_31-50'\n",
    "train.loc[train['Age'] > 50, 'Age_group'] = 'Age_51+'"
   ]
  },
  {
   "cell_type": "code",
   "execution_count": 19,
   "id": "e03067a2",
   "metadata": {
    "execution": {
     "iopub.execute_input": "2024-08-01T09:59:22.013880Z",
     "iopub.status.busy": "2024-08-01T09:59:22.013477Z",
     "iopub.status.idle": "2024-08-01T09:59:22.029297Z",
     "shell.execute_reply": "2024-08-01T09:59:22.028158Z"
    },
    "papermill": {
     "duration": 0.041398,
     "end_time": "2024-08-01T09:59:22.031946",
     "exception": false,
     "start_time": "2024-08-01T09:59:21.990548",
     "status": "completed"
    },
    "tags": []
   },
   "outputs": [],
   "source": [
    "# test\n",
    "test['Age_group'] = ''\n",
    "\n",
    "test.loc[test['Age'] <= 12, 'Age_group'] = 'Age_0-12'\n",
    "test.loc[(test['Age'] > 12) & (test['Age'] < 18), 'Age_group'] = 'Age_13-17'\n",
    "test.loc[(test['Age'] >= 18 ) & (test['Age'] <= 25), 'Age_group'] = 'Age_18-25'\n",
    "test.loc[(test['Age'] > 25 ) & (test['Age'] <= 30), 'Age_group'] = 'Age_26-30'\n",
    "test.loc[(test['Age'] >= 30 ) & (test['Age'] <= 50), 'Age_group'] = 'Age_31-50'\n",
    "test.loc[test['Age'] > 50, 'Age_group'] = 'Age_51+'"
   ]
  },
  {
   "cell_type": "code",
   "execution_count": 20,
   "id": "6c754fab",
   "metadata": {
    "execution": {
     "iopub.execute_input": "2024-08-01T09:59:22.076902Z",
     "iopub.status.busy": "2024-08-01T09:59:22.076530Z",
     "iopub.status.idle": "2024-08-01T09:59:22.492221Z",
     "shell.execute_reply": "2024-08-01T09:59:22.491074Z"
    },
    "papermill": {
     "duration": 0.440696,
     "end_time": "2024-08-01T09:59:22.494571",
     "exception": false,
     "start_time": "2024-08-01T09:59:22.053875",
     "status": "completed"
    },
    "tags": []
   },
   "outputs": [
    {
     "data": {
      "text/plain": [
       "Text(0.5, 1.0, 'Age group distribution')"
      ]
     },
     "execution_count": 20,
     "metadata": {},
     "output_type": "execute_result"
    },
    {
     "data": {
      "image/png": "[encoded data removed]",
      "text/plain": [
       "<Figure size 1000x400 with 1 Axes>"
      ]
     },
     "metadata": {},
     "output_type": "display_data"
    }
   ],
   "source": [
    "# 作成した特徴量に対して、グラフ化する\n",
    "plt.figure(figsize=(10, 4))\n",
    "g = sns.countplot(\n",
    "    data = train,\n",
    "    x = 'Age_group',\n",
    "    hue = 'Transported',\n",
    "    order = [\n",
    "        'Age_0-12',\n",
    "        'Age_13-17',\n",
    "        'Age_18-25',\n",
    "        'Age_26-30',\n",
    "        'Age_31-50',\n",
    "        'Age_51+'\n",
    "    ]\n",
    ")\n",
    "plt.title('Age group distribution')"
   ]
  },
  {
   "cell_type": "markdown",
   "id": "c6b0b26e",
   "metadata": {
    "papermill": {
     "duration": 0.022331,
     "end_time": "2024-08-01T09:59:22.538981",
     "exception": false,
     "start_time": "2024-08-01T09:59:22.516650",
     "status": "completed"
    },
    "tags": []
   },
   "source": [
    "Age_0-12 については、transportedされている数が、そうでないのに比べ、多い"
   ]
  },
  {
   "cell_type": "markdown",
   "id": "7fbf3efb",
   "metadata": {
    "papermill": {
     "duration": 0.022148,
     "end_time": "2024-08-01T09:59:22.583178",
     "exception": false,
     "start_time": "2024-08-01T09:59:22.561030",
     "status": "completed"
    },
    "tags": []
   },
   "source": [
    "この対応忘れてたのでやる"
   ]
  },
  {
   "cell_type": "code",
   "execution_count": 21,
   "id": "6dd22f77",
   "metadata": {
    "execution": {
     "iopub.execute_input": "2024-08-01T09:59:22.630056Z",
     "iopub.status.busy": "2024-08-01T09:59:22.629641Z",
     "iopub.status.idle": "2024-08-01T09:59:22.648893Z",
     "shell.execute_reply": "2024-08-01T09:59:22.647857Z"
    },
    "papermill": {
     "duration": 0.04644,
     "end_time": "2024-08-01T09:59:22.651623",
     "exception": false,
     "start_time": "2024-08-01T09:59:22.605183",
     "status": "completed"
    },
    "tags": []
   },
   "outputs": [],
   "source": [
    "y = train['Transported'].copy().astype(int)\n",
    "X = train.drop('Transported', axis = 1).copy()\n",
    "\n",
    "data = pd.concat([X, test], axis=0).reset_index(drop=True)"
   ]
  },
  {
   "cell_type": "code",
   "execution_count": 22,
   "id": "098edbe4",
   "metadata": {
    "execution": {
     "iopub.execute_input": "2024-08-01T09:59:22.697086Z",
     "iopub.status.busy": "2024-08-01T09:59:22.696656Z",
     "iopub.status.idle": "2024-08-01T09:59:22.707415Z",
     "shell.execute_reply": "2024-08-01T09:59:22.706285Z"
    },
    "papermill": {
     "duration": 0.036207,
     "end_time": "2024-08-01T09:59:22.709844",
     "exception": false,
     "start_time": "2024-08-01T09:59:22.673637",
     "status": "completed"
    },
    "tags": []
   },
   "outputs": [],
   "source": [
    "# X = data[data['PassengerId'].isin(train['PassangerId'].values)].copy()\n",
    "X_test = data[data['PassengerId'].isin(test['PassengerId'].values)].copy()"
   ]
  },
  {
   "cell_type": "code",
   "execution_count": 23,
   "id": "ac8d3c86",
   "metadata": {
    "execution": {
     "iopub.execute_input": "2024-08-01T09:59:22.755126Z",
     "iopub.status.busy": "2024-08-01T09:59:22.754711Z",
     "iopub.status.idle": "2024-08-01T09:59:22.770443Z",
     "shell.execute_reply": "2024-08-01T09:59:22.769316Z"
    },
    "papermill": {
     "duration": 0.041931,
     "end_time": "2024-08-01T09:59:22.773612",
     "exception": false,
     "start_time": "2024-08-01T09:59:22.731681",
     "status": "completed"
    },
    "tags": []
   },
   "outputs": [],
   "source": [
    "X_train, X_valid, y_train, y_valid = train_test_split(X, y, stratify = y, train_size = 0.8, test_size = 0.2, random_state = 0)"
   ]
  },
  {
   "cell_type": "markdown",
   "id": "fe7b9fc8",
   "metadata": {
    "papermill": {
     "duration": 0.021633,
     "end_time": "2024-08-01T09:59:22.817196",
     "exception": false,
     "start_time": "2024-08-01T09:59:22.795563",
     "status": "completed"
    },
    "tags": []
   },
   "source": [
    "### どのモデルを使うか\n",
    "\n",
    "ここでは複数の機械学習モデルを、（モデル名をkey、モデルのインスタンスをvalueとした）辞書形式で定義している。"
   ]
  },
  {
   "cell_type": "code",
   "execution_count": 24,
   "id": "efad6fcb",
   "metadata": {
    "execution": {
     "iopub.execute_input": "2024-08-01T09:59:22.862852Z",
     "iopub.status.busy": "2024-08-01T09:59:22.862088Z",
     "iopub.status.idle": "2024-08-01T09:59:22.871538Z",
     "shell.execute_reply": "2024-08-01T09:59:22.870319Z"
    },
    "papermill": {
     "duration": 0.034741,
     "end_time": "2024-08-01T09:59:22.873911",
     "exception": false,
     "start_time": "2024-08-01T09:59:22.839170",
     "status": "completed"
    },
    "tags": []
   },
   "outputs": [],
   "source": [
    "classifiers = {\n",
    "    \"LogisticRegression\" : LogisticRegression(random_state=0),\n",
    "    \"KNN\" : KNeighborsClassifier(),\n",
    "    \"SVC\" : SVC(random_state=0, probability=True),\n",
    "    \"RandomForest\" : RandomForestClassifier(random_state=0),\n",
    "    \"LGBM\" : LGBMClassifier(random_state=0),\n",
    "    \"CatBoost\" : CatBoostClassifier(random_state=0, verbose=False),\n",
    "    \"NaiveBayes\" : GaussianNB()\n",
    "}"
   ]
  },
  {
   "cell_type": "markdown",
   "id": "9de0479c",
   "metadata": {
    "papermill": {
     "duration": 0.021451,
     "end_time": "2024-08-01T09:59:22.917372",
     "exception": false,
     "start_time": "2024-08-01T09:59:22.895921",
     "status": "completed"
    },
    "tags": []
   },
   "source": [
    "ハイパーパラメータを設定する\n",
    "\n",
    "grid searchについて追記"
   ]
  },
  {
   "cell_type": "code",
   "execution_count": 25,
   "id": "4ce9f967",
   "metadata": {
    "execution": {
     "iopub.execute_input": "2024-08-01T09:59:22.963101Z",
     "iopub.status.busy": "2024-08-01T09:59:22.962690Z",
     "iopub.status.idle": "2024-08-01T09:59:22.971809Z",
     "shell.execute_reply": "2024-08-01T09:59:22.970885Z"
    },
    "papermill": {
     "duration": 0.034327,
     "end_time": "2024-08-01T09:59:22.974024",
     "exception": false,
     "start_time": "2024-08-01T09:59:22.939697",
     "status": "completed"
    },
    "tags": []
   },
   "outputs": [],
   "source": [
    "LR_grid = {\n",
    "    'penalty' : ['l1', 'l2'],\n",
    "    'C' : [0.25, 0.5, 0.75, 1, 1.25, 1.5],\n",
    "    'max_iter' : [50, 100, 150]\n",
    "}\n",
    "\n",
    "KNN_grid = {\n",
    "    'n_neighbors' : [3, 5, 7, 9],\n",
    "    'p' : [1, 2]\n",
    "}\n",
    "\n",
    "SVC_grid = {\n",
    "    'C' : [0.25, 0.5, 0.75, 1, 1.25, 1.5],\n",
    "    'kernel' : ['linear', 'rbf'],\n",
    "    'gamma' : ['scale', 'auto']\n",
    "}\n",
    "\n",
    "RF_grid = {\n",
    "    'n_estimators' : [50, 100, 150, 200, 250, 300],\n",
    "    'max_depth' : [4, 6, 8, 10, 12]\n",
    "}\n",
    "\n",
    "boosted_grid = {\n",
    "    'n_estimators' : '50, 100, 150, 200',\n",
    "    'max_depth' : [4, 8, 12],\n",
    "    'learning_rate' : [0.05, 0.1, 0.15]\n",
    "}\n",
    "\n",
    "NB_grid = {\n",
    "    'var_sommthing' : [1e-10, 1e-9, 1e-8, 1e-7]\n",
    "}"
   ]
  },
  {
   "cell_type": "code",
   "execution_count": 26,
   "id": "c5a28a83",
   "metadata": {
    "execution": {
     "iopub.execute_input": "2024-08-01T09:59:23.020091Z",
     "iopub.status.busy": "2024-08-01T09:59:23.018929Z",
     "iopub.status.idle": "2024-08-01T09:59:23.026200Z",
     "shell.execute_reply": "2024-08-01T09:59:23.025022Z"
    },
    "papermill": {
     "duration": 0.03288,
     "end_time": "2024-08-01T09:59:23.028622",
     "exception": false,
     "start_time": "2024-08-01T09:59:22.995742",
     "status": "completed"
    },
    "tags": []
   },
   "outputs": [],
   "source": [
    "grid = {\n",
    "    \"LogisticRegression\" : LR_grid,\n",
    "    \"KNN\" : KNN_grid,\n",
    "    \"SVC\" : SVC_grid,\n",
    "    \"RandomForest\" : RF_grid,\n",
    "    \"XGBoost\" : boosted_grid,\n",
    "    \"LGBM\" : boosted_grid,\n",
    "    \"CatBoost\" : boosted_grid,\n",
    "    \"NaiveBayes\" : NB_grid\n",
    "}"
   ]
  },
  {
   "cell_type": "code",
   "execution_count": 27,
   "id": "84dfb09d",
   "metadata": {
    "execution": {
     "iopub.execute_input": "2024-08-01T09:59:23.075320Z",
     "iopub.status.busy": "2024-08-01T09:59:23.074898Z",
     "iopub.status.idle": "2024-08-01T09:59:23.084065Z",
     "shell.execute_reply": "2024-08-01T09:59:23.082922Z"
    },
    "papermill": {
     "duration": 0.035582,
     "end_time": "2024-08-01T09:59:23.086545",
     "exception": false,
     "start_time": "2024-08-01T09:59:23.050963",
     "status": "completed"
    },
    "tags": []
   },
   "outputs": [],
   "source": [
    "i = 0\n",
    "\n",
    "clf_best_params = classifiers.copy()\n",
    "\n",
    "# 各モデルの検証精度とトレーニング時間を保存するdataframe\n",
    "valid_scores = pd.DataFrame(\n",
    "    {\n",
    "        'Classifier' : classifiers.keys(),\n",
    "        'Validation accuracy' : np.zeros(len(classifiers)),\n",
    "        'Training time' : np.zeros(len(classifiers))\n",
    "    }\n",
    ")\n",
    "\n",
    "for key, classifier in classifiers.items():\n",
    "    start = time.time()\n",
    "    \n",
    "    # グリッドサーチって何？\n",
    "    clf = GridSearchCV(\n",
    "        estimator = classifier,\n",
    "        param_grid = grid[key],\n",
    "        n_jobs = -1,\n",
    "        cv = None\n",
    "    )\n",
    "    \n",
    "#     clf.fit(X_train, y_train)　 # ここでエラーになる\n",
    "#     valid_scores.iloc[i, 1] = clf.score(X_valid, y_valid)\n",
    "    \n",
    "#     clf_best_params[key] = clf.best_params_\n",
    "    \n",
    "#     stop = time.time()\n",
    "#     valid_scores.iloc[i, 2] = np.round((stop - start)/60, 2)\n",
    "    \n",
    "#     print('Model:', key)\n",
    "#     print('Training time (mins):', valid_scores.iloc[i, 2])\n",
    "#     print('')\n",
    "    \n",
    "#     i += 1\n",
    "    "
   ]
  },
  {
   "cell_type": "markdown",
   "id": "eb81c947",
   "metadata": {
    "papermill": {
     "duration": 0.022237,
     "end_time": "2024-08-01T09:59:23.130718",
     "exception": false,
     "start_time": "2024-08-01T09:59:23.108481",
     "status": "completed"
    },
    "tags": []
   },
   "source": [
    "# モデリング\n",
    "\n",
    "上記のモデリングの選択は、一旦、参考テキストの選択をそのまま採用することにする。というのも、まずは一連の流れを最後まで進むのが大切だと思ったため。\n",
    "\n",
    "というわけで、LGBMとCatBoostを採用する。"
   ]
  },
  {
   "cell_type": "code",
   "execution_count": 28,
   "id": "47215f1f",
   "metadata": {
    "execution": {
     "iopub.execute_input": "2024-08-01T09:59:23.177068Z",
     "iopub.status.busy": "2024-08-01T09:59:23.176269Z",
     "iopub.status.idle": "2024-08-01T09:59:23.181097Z",
     "shell.execute_reply": "2024-08-01T09:59:23.179983Z"
    },
    "papermill": {
     "duration": 0.030188,
     "end_time": "2024-08-01T09:59:23.183465",
     "exception": false,
     "start_time": "2024-08-01T09:59:23.153277",
     "status": "completed"
    },
    "tags": []
   },
   "outputs": [],
   "source": [
    "# best_classifiers = {\n",
    "#     \"LGBM\" : LGBMClassifier(**clf_best_params[\"LGBM\"], random_state = 0),\n",
    "#     \"CatBoost\" : CatBoostClassifier(\n",
    "#         **clf_best_params[\"CatBoost\"],\n",
    "#         verbose = False,\n",
    "#         random_state = 0\n",
    "#     )\n",
    "# }"
   ]
  },
  {
   "cell_type": "markdown",
   "id": "81d932e9",
   "metadata": {
    "papermill": {
     "duration": 0.024133,
     "end_time": "2024-08-01T09:59:23.230684",
     "exception": false,
     "start_time": "2024-08-01T09:59:23.206551",
     "status": "completed"
    },
    "tags": []
   },
   "source": [
    "ちょっとずるいが、端折る"
   ]
  },
  {
   "cell_type": "code",
   "execution_count": 29,
   "id": "2187c548",
   "metadata": {
    "execution": {
     "iopub.execute_input": "2024-08-01T09:59:23.277155Z",
     "iopub.status.busy": "2024-08-01T09:59:23.276755Z",
     "iopub.status.idle": "2024-08-01T09:59:23.284221Z",
     "shell.execute_reply": "2024-08-01T09:59:23.282854Z"
    },
    "papermill": {
     "duration": 0.033566,
     "end_time": "2024-08-01T09:59:23.286699",
     "exception": false,
     "start_time": "2024-08-01T09:59:23.253133",
     "status": "completed"
    },
    "tags": []
   },
   "outputs": [],
   "source": [
    "clf_best_params = {\n",
    "    'LogisticRegression': {'C': 0.5, 'max_iter': 100, 'penalty': 'l2'},\n",
    "    'KNN': {'n_neighbors': 9, 'p': 2},\n",
    "    'SVC': {'C': 1.25, 'gamma': 'scale', 'kernel': 'rbf'},\n",
    "    'RandomForest': {'max_depth': 10, 'n_estimators': 250},\n",
    "    'LGBM': {'learning_rate': 0.05, 'max_depth': 8, 'n_estimators': 100},\n",
    "    'CatBoost': {'learning_rate': 0.15, 'max_depth': 4, 'n_estimators': 100},\n",
    "    'NaiveBayes': {'var_smoothing': 1e-07}\n",
    "}\n"
   ]
  },
  {
   "cell_type": "code",
   "execution_count": 30,
   "id": "c88fa1d0",
   "metadata": {
    "execution": {
     "iopub.execute_input": "2024-08-01T09:59:23.333580Z",
     "iopub.status.busy": "2024-08-01T09:59:23.332836Z",
     "iopub.status.idle": "2024-08-01T09:59:23.340560Z",
     "shell.execute_reply": "2024-08-01T09:59:23.339448Z"
    },
    "papermill": {
     "duration": 0.034292,
     "end_time": "2024-08-01T09:59:23.343058",
     "exception": false,
     "start_time": "2024-08-01T09:59:23.308766",
     "status": "completed"
    },
    "tags": []
   },
   "outputs": [
    {
     "data": {
      "text/plain": [
       "{'LogisticRegression': {'C': 0.5, 'max_iter': 100, 'penalty': 'l2'},\n",
       " 'KNN': {'n_neighbors': 9, 'p': 2},\n",
       " 'SVC': {'C': 1.25, 'gamma': 'scale', 'kernel': 'rbf'},\n",
       " 'RandomForest': {'max_depth': 10, 'n_estimators': 250},\n",
       " 'LGBM': {'learning_rate': 0.05, 'max_depth': 8, 'n_estimators': 100},\n",
       " 'CatBoost': {'learning_rate': 0.15, 'max_depth': 4, 'n_estimators': 100},\n",
       " 'NaiveBayes': {'var_smoothing': 1e-07}}"
      ]
     },
     "execution_count": 30,
     "metadata": {},
     "output_type": "execute_result"
    }
   ],
   "source": [
    "clf_best_params"
   ]
  },
  {
   "cell_type": "markdown",
   "id": "05e0c7cc",
   "metadata": {
    "papermill": {
     "duration": 0.021774,
     "end_time": "2024-08-01T09:59:23.386968",
     "exception": false,
     "start_time": "2024-08-01T09:59:23.365194",
     "status": "completed"
    },
    "tags": []
   },
   "source": [
    "### モデリング"
   ]
  },
  {
   "cell_type": "markdown",
   "id": "a8395ca3",
   "metadata": {
    "papermill": {
     "duration": 0.021493,
     "end_time": "2024-08-01T09:59:23.430848",
     "exception": false,
     "start_time": "2024-08-01T09:59:23.409355",
     "status": "completed"
    },
    "tags": []
   },
   "source": [
    "クロスバリデーションを使用して、モデルをトレーニングする\n"
   ]
  },
  {
   "cell_type": "code",
   "execution_count": 31,
   "id": "a44bc497",
   "metadata": {
    "execution": {
     "iopub.execute_input": "2024-08-01T09:59:23.477194Z",
     "iopub.status.busy": "2024-08-01T09:59:23.476801Z",
     "iopub.status.idle": "2024-08-01T09:59:23.482441Z",
     "shell.execute_reply": "2024-08-01T09:59:23.481418Z"
    },
    "papermill": {
     "duration": 0.032219,
     "end_time": "2024-08-01T09:59:23.484799",
     "exception": false,
     "start_time": "2024-08-01T09:59:23.452580",
     "status": "completed"
    },
    "tags": []
   },
   "outputs": [],
   "source": [
    "best_classifiers = {\n",
    "    \"LGBM\" : LGBMClassifier(**clf_best_params[\"LGBM\"], random_state=0),\n",
    "    \"CatBoost\" : CatBoostClassifier(**clf_best_params[\"CatBoost\"], verbose=False, random_state=0),\n",
    "}"
   ]
  },
  {
   "cell_type": "code",
   "execution_count": 32,
   "id": "e247ed7f",
   "metadata": {
    "execution": {
     "iopub.execute_input": "2024-08-01T09:59:23.530336Z",
     "iopub.status.busy": "2024-08-01T09:59:23.529920Z",
     "iopub.status.idle": "2024-08-01T09:59:23.537623Z",
     "shell.execute_reply": "2024-08-01T09:59:23.536455Z"
    },
    "papermill": {
     "duration": 0.033274,
     "end_time": "2024-08-01T09:59:23.540072",
     "exception": false,
     "start_time": "2024-08-01T09:59:23.506798",
     "status": "completed"
    },
    "tags": []
   },
   "outputs": [],
   "source": [
    "# Number of folds in cross validation\n",
    "FOLDS=10\n",
    "\n",
    "preds=np.zeros(len(X_test))\n",
    "for key, classifier in best_classifiers.items():\n",
    "    start = time.time()\n",
    "    \n",
    "    # 10-fold cross validation\n",
    "    cv = StratifiedKFold(n_splits=FOLDS, shuffle=True, random_state=0)\n",
    "    \n",
    "    score=0\n",
    "#     for fold, (train_idx, val_idx) in enumerate(cv.split(X, y)):\n",
    "#         # Get training and validation sets\n",
    "#         X_train, X_valid = X[train_idx], X[val_idx]\n",
    "#         y_train, y_valid = y[train_idx], y[val_idx]\n",
    "\n",
    "#         # Train model\n",
    "#         clf = classifier\n",
    "#         clf.fit(X_train, y_train)\n",
    "\n",
    "#         # Make predictions and measure accuracy\n",
    "#         preds += clf.predict_proba(X_test)[:,1]\n",
    "#         score += clf.score(X_valid, y_valid)\n",
    "\n",
    "#     # Average accuracy    \n",
    "#     score=score/FOLDS\n",
    "    \n",
    "#     # Stop timer\n",
    "#     stop = time.time()\n",
    "\n",
    "#     # Print accuracy and time\n",
    "#     print('Model:', key)\n",
    "#     print('Average validation accuracy:', np.round(100*score,2))\n",
    "#     print('Training time (mins):', np.round((stop - start)/60,2))\n",
    "#     print('')\n",
    "    \n",
    "# # Ensemble predictions\n",
    "# preds=preds/(FOLDS*len(best_classifiers))"
   ]
  }
 ],
 "metadata": {
  "kaggle": {
   "accelerator": "none",
   "dataSources": [
    {
     "databundleVersionId": 3220602,
     "sourceId": 34377,
     "sourceType": "competition"
    }
   ],
   "dockerImageVersionId": 30732,
   "isGpuEnabled": false,
   "isInternetEnabled": true,
   "language": "python",
   "sourceType": "notebook"
  },
  "kernelspec": {
   "display_name": "Python 3",
   "language": "python",
   "name": "python3"
  },
  "language_info": {
   "codemirror_mode": {
    "name": "ipython",
    "version": 3
   },
   "file_extension": ".py",
   "mimetype": "text/x-python",
   "name": "python",
   "nbconvert_exporter": "python",
   "pygments_lexer": "ipython3",
   "version": "3.10.13"
  },
  "papermill": {
   "default_parameters": {},
   "duration": 14.833745,
   "end_time": "2024-08-01T09:59:24.384418",
   "environment_variables": {},
   "exception": null,
   "input_path": "__notebook__.ipynb",
   "output_path": "__notebook__.ipynb",
   "parameters": {},
   "start_time": "2024-08-01T09:59:09.550673",
   "version": "2.5.0"
  }
 },
 "nbformat": 4,
 "nbformat_minor": 5
}
