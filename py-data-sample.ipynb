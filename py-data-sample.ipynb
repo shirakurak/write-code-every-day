{
 "cells": [
  {
   "cell_type": "code",
   "execution_count": 1,
   "id": "69ee846c",
   "metadata": {
    "_cell_guid": "b1076dfc-b9ad-4769-8c92-a6c4dae69d19",
    "_uuid": "8f2839f25d086af736a60e9eeb907d3b93b6e0e5",
    "execution": {
     "iopub.execute_input": "2024-12-29T10:23:59.498803Z",
     "iopub.status.busy": "2024-12-29T10:23:59.498384Z",
     "iopub.status.idle": "2024-12-29T10:23:59.892672Z",
     "shell.execute_reply": "2024-12-29T10:23:59.891741Z"
    },
    "papermill": {
     "duration": 0.401977,
     "end_time": "2024-12-29T10:23:59.894570",
     "exception": false,
     "start_time": "2024-12-29T10:23:59.492593",
     "status": "completed"
    },
    "tags": []
   },
   "outputs": [],
   "source": [
    "# This Python 3 environment comes with many helpful analytics libraries installed\n",
    "# It is defined by the kaggle/python Docker image: https://github.com/kaggle/docker-python\n",
    "# For example, here's several helpful packages to load\n",
    "\n",
    "import numpy as np # linear algebra\n",
    "import pandas as pd # data processing, CSV file I/O (e.g. pd.read_csv)\n",
    "\n",
    "# Input data files are available in the read-only \"../input/\" directory\n",
    "# For example, running this (by clicking run or pressing Shift+Enter) will list all files under the input directory\n",
    "\n",
    "import os\n",
    "for dirname, _, filenames in os.walk('/kaggle/input'):\n",
    "    for filename in filenames:\n",
    "        print(os.path.join(dirname, filename))\n",
    "\n",
    "# You can write up to 20GB to the current directory (/kaggle/working/) that gets preserved as output when you create a version using \"Save & Run All\" \n",
    "# You can also write temporary files to /kaggle/temp/, but they won't be saved outside of the current session"
   ]
  },
  {
   "cell_type": "code",
   "execution_count": 2,
   "id": "32ff2e31",
   "metadata": {
    "execution": {
     "iopub.execute_input": "2024-12-29T10:23:59.903507Z",
     "iopub.status.busy": "2024-12-29T10:23:59.903085Z",
     "iopub.status.idle": "2024-12-29T10:23:59.912044Z",
     "shell.execute_reply": "2024-12-29T10:23:59.910904Z"
    },
    "papermill": {
     "duration": 0.014925,
     "end_time": "2024-12-29T10:23:59.913634",
     "exception": false,
     "start_time": "2024-12-29T10:23:59.898709",
     "status": "completed"
    },
    "tags": []
   },
   "outputs": [
    {
     "data": {
      "text/plain": [
       "array([[ 1.5, -0.1,  3. ],\n",
       "       [ 0. , -3. ,  6.5]])"
      ]
     },
     "execution_count": 2,
     "metadata": {},
     "output_type": "execute_result"
    }
   ],
   "source": [
    "data = np.array([[1.5, -0.1, 3], [0, -3, 6.5]])\n",
    "data"
   ]
  },
  {
   "cell_type": "code",
   "execution_count": 3,
   "id": "eab2ad29",
   "metadata": {
    "execution": {
     "iopub.execute_input": "2024-12-29T10:23:59.922583Z",
     "iopub.status.busy": "2024-12-29T10:23:59.922185Z",
     "iopub.status.idle": "2024-12-29T10:23:59.928659Z",
     "shell.execute_reply": "2024-12-29T10:23:59.927603Z"
    },
    "papermill": {
     "duration": 0.012622,
     "end_time": "2024-12-29T10:23:59.930262",
     "exception": false,
     "start_time": "2024-12-29T10:23:59.917640",
     "status": "completed"
    },
    "tags": []
   },
   "outputs": [
    {
     "data": {
      "text/plain": [
       "array([[ 15.,  -1.,  30.],\n",
       "       [  0., -30.,  65.]])"
      ]
     },
     "execution_count": 3,
     "metadata": {},
     "output_type": "execute_result"
    }
   ],
   "source": [
    "data * 10"
   ]
  },
  {
   "cell_type": "code",
   "execution_count": 4,
   "id": "66e59162",
   "metadata": {
    "execution": {
     "iopub.execute_input": "2024-12-29T10:23:59.939341Z",
     "iopub.status.busy": "2024-12-29T10:23:59.938915Z",
     "iopub.status.idle": "2024-12-29T10:23:59.945331Z",
     "shell.execute_reply": "2024-12-29T10:23:59.944263Z"
    },
    "papermill": {
     "duration": 0.012804,
     "end_time": "2024-12-29T10:23:59.947094",
     "exception": false,
     "start_time": "2024-12-29T10:23:59.934290",
     "status": "completed"
    },
    "tags": []
   },
   "outputs": [
    {
     "data": {
      "text/plain": [
       "array([[ 3. , -0.2,  6. ],\n",
       "       [ 0. , -6. , 13. ]])"
      ]
     },
     "execution_count": 4,
     "metadata": {},
     "output_type": "execute_result"
    }
   ],
   "source": [
    "data + data"
   ]
  },
  {
   "cell_type": "code",
   "execution_count": 5,
   "id": "a67b8717",
   "metadata": {
    "execution": {
     "iopub.execute_input": "2024-12-29T10:23:59.957200Z",
     "iopub.status.busy": "2024-12-29T10:23:59.956825Z",
     "iopub.status.idle": "2024-12-29T10:23:59.962472Z",
     "shell.execute_reply": "2024-12-29T10:23:59.961454Z"
    },
    "papermill": {
     "duration": 0.012732,
     "end_time": "2024-12-29T10:23:59.964206",
     "exception": false,
     "start_time": "2024-12-29T10:23:59.951474",
     "status": "completed"
    },
    "tags": []
   },
   "outputs": [
    {
     "data": {
      "text/plain": [
       "(2, 3)"
      ]
     },
     "execution_count": 5,
     "metadata": {},
     "output_type": "execute_result"
    }
   ],
   "source": [
    "data.shape"
   ]
  },
  {
   "cell_type": "code",
   "execution_count": 6,
   "id": "c4dfc502",
   "metadata": {
    "execution": {
     "iopub.execute_input": "2024-12-29T10:23:59.973561Z",
     "iopub.status.busy": "2024-12-29T10:23:59.973241Z",
     "iopub.status.idle": "2024-12-29T10:23:59.978789Z",
     "shell.execute_reply": "2024-12-29T10:23:59.977912Z"
    },
    "papermill": {
     "duration": 0.012014,
     "end_time": "2024-12-29T10:23:59.980357",
     "exception": false,
     "start_time": "2024-12-29T10:23:59.968343",
     "status": "completed"
    },
    "tags": []
   },
   "outputs": [
    {
     "data": {
      "text/plain": [
       "dtype('float64')"
      ]
     },
     "execution_count": 6,
     "metadata": {},
     "output_type": "execute_result"
    }
   ],
   "source": [
    "data.dtype"
   ]
  },
  {
   "cell_type": "code",
   "execution_count": 7,
   "id": "43c13f2a",
   "metadata": {
    "execution": {
     "iopub.execute_input": "2024-12-29T10:23:59.989692Z",
     "iopub.status.busy": "2024-12-29T10:23:59.989349Z",
     "iopub.status.idle": "2024-12-29T10:23:59.995899Z",
     "shell.execute_reply": "2024-12-29T10:23:59.994721Z"
    },
    "papermill": {
     "duration": 0.013203,
     "end_time": "2024-12-29T10:23:59.997752",
     "exception": false,
     "start_time": "2024-12-29T10:23:59.984549",
     "status": "completed"
    },
    "tags": []
   },
   "outputs": [
    {
     "data": {
      "text/plain": [
       "array([6. , 7.5, 8. , 0. , 1. ])"
      ]
     },
     "execution_count": 7,
     "metadata": {},
     "output_type": "execute_result"
    }
   ],
   "source": [
    "data1 = [6, 7.5, 8, 0, 1]\n",
    "arr1 = np.array(data1)\n",
    "arr1"
   ]
  },
  {
   "cell_type": "code",
   "execution_count": 8,
   "id": "c2ab8e26",
   "metadata": {
    "execution": {
     "iopub.execute_input": "2024-12-29T10:24:00.008791Z",
     "iopub.status.busy": "2024-12-29T10:24:00.008240Z",
     "iopub.status.idle": "2024-12-29T10:24:00.016199Z",
     "shell.execute_reply": "2024-12-29T10:24:00.014898Z"
    },
    "papermill": {
     "duration": 0.01569,
     "end_time": "2024-12-29T10:24:00.018058",
     "exception": false,
     "start_time": "2024-12-29T10:24:00.002368",
     "status": "completed"
    },
    "tags": []
   },
   "outputs": [
    {
     "data": {
      "text/plain": [
       "array([[1, 2, 3, 4],\n",
       "       [5, 6, 7, 8]])"
      ]
     },
     "execution_count": 8,
     "metadata": {},
     "output_type": "execute_result"
    }
   ],
   "source": [
    "data2 = [[1,2,3,4],[5,6,7,8]]\n",
    "arr2 = np.array(data2)\n",
    "arr2"
   ]
  },
  {
   "cell_type": "code",
   "execution_count": 9,
   "id": "ec56ff87",
   "metadata": {
    "execution": {
     "iopub.execute_input": "2024-12-29T10:24:00.028886Z",
     "iopub.status.busy": "2024-12-29T10:24:00.028565Z",
     "iopub.status.idle": "2024-12-29T10:24:00.034231Z",
     "shell.execute_reply": "2024-12-29T10:24:00.033224Z"
    },
    "papermill": {
     "duration": 0.012683,
     "end_time": "2024-12-29T10:24:00.035915",
     "exception": false,
     "start_time": "2024-12-29T10:24:00.023232",
     "status": "completed"
    },
    "tags": []
   },
   "outputs": [
    {
     "data": {
      "text/plain": [
       "2"
      ]
     },
     "execution_count": 9,
     "metadata": {},
     "output_type": "execute_result"
    }
   ],
   "source": [
    "arr2.ndim"
   ]
  },
  {
   "cell_type": "code",
   "execution_count": 10,
   "id": "3fae9ada",
   "metadata": {
    "execution": {
     "iopub.execute_input": "2024-12-29T10:24:00.045888Z",
     "iopub.status.busy": "2024-12-29T10:24:00.045523Z",
     "iopub.status.idle": "2024-12-29T10:24:00.051589Z",
     "shell.execute_reply": "2024-12-29T10:24:00.050532Z"
    },
    "papermill": {
     "duration": 0.012953,
     "end_time": "2024-12-29T10:24:00.053313",
     "exception": false,
     "start_time": "2024-12-29T10:24:00.040360",
     "status": "completed"
    },
    "tags": []
   },
   "outputs": [
    {
     "data": {
      "text/plain": [
       "(2, 4)"
      ]
     },
     "execution_count": 10,
     "metadata": {},
     "output_type": "execute_result"
    }
   ],
   "source": [
    "arr2.shape"
   ]
  },
  {
   "cell_type": "code",
   "execution_count": 11,
   "id": "6ba73315",
   "metadata": {
    "execution": {
     "iopub.execute_input": "2024-12-29T10:24:00.063601Z",
     "iopub.status.busy": "2024-12-29T10:24:00.063269Z",
     "iopub.status.idle": "2024-12-29T10:24:00.068942Z",
     "shell.execute_reply": "2024-12-29T10:24:00.067941Z"
    },
    "papermill": {
     "duration": 0.012666,
     "end_time": "2024-12-29T10:24:00.070540",
     "exception": false,
     "start_time": "2024-12-29T10:24:00.057874",
     "status": "completed"
    },
    "tags": []
   },
   "outputs": [
    {
     "data": {
      "text/plain": [
       "dtype('float64')"
      ]
     },
     "execution_count": 11,
     "metadata": {},
     "output_type": "execute_result"
    }
   ],
   "source": [
    "arr1.dtype"
   ]
  },
  {
   "cell_type": "code",
   "execution_count": 12,
   "id": "cf6b98b9",
   "metadata": {
    "execution": {
     "iopub.execute_input": "2024-12-29T10:24:00.081116Z",
     "iopub.status.busy": "2024-12-29T10:24:00.080714Z",
     "iopub.status.idle": "2024-12-29T10:24:00.086605Z",
     "shell.execute_reply": "2024-12-29T10:24:00.085502Z"
    },
    "papermill": {
     "duration": 0.013116,
     "end_time": "2024-12-29T10:24:00.088468",
     "exception": false,
     "start_time": "2024-12-29T10:24:00.075352",
     "status": "completed"
    },
    "tags": []
   },
   "outputs": [
    {
     "data": {
      "text/plain": [
       "dtype('int64')"
      ]
     },
     "execution_count": 12,
     "metadata": {},
     "output_type": "execute_result"
    }
   ],
   "source": [
    "arr2.dtype"
   ]
  },
  {
   "cell_type": "code",
   "execution_count": 13,
   "id": "66bb60c3",
   "metadata": {
    "execution": {
     "iopub.execute_input": "2024-12-29T10:24:00.099291Z",
     "iopub.status.busy": "2024-12-29T10:24:00.098921Z",
     "iopub.status.idle": "2024-12-29T10:24:00.104936Z",
     "shell.execute_reply": "2024-12-29T10:24:00.103933Z"
    },
    "papermill": {
     "duration": 0.013528,
     "end_time": "2024-12-29T10:24:00.106729",
     "exception": false,
     "start_time": "2024-12-29T10:24:00.093201",
     "status": "completed"
    },
    "tags": []
   },
   "outputs": [
    {
     "data": {
      "text/plain": [
       "array([0., 0., 0., 0., 0., 0., 0., 0., 0., 0.])"
      ]
     },
     "execution_count": 13,
     "metadata": {},
     "output_type": "execute_result"
    }
   ],
   "source": [
    "np.zeros(10)"
   ]
  },
  {
   "cell_type": "code",
   "execution_count": 14,
   "id": "241cd239",
   "metadata": {
    "execution": {
     "iopub.execute_input": "2024-12-29T10:24:00.117836Z",
     "iopub.status.busy": "2024-12-29T10:24:00.117437Z",
     "iopub.status.idle": "2024-12-29T10:24:00.123493Z",
     "shell.execute_reply": "2024-12-29T10:24:00.122524Z"
    },
    "papermill": {
     "duration": 0.013464,
     "end_time": "2024-12-29T10:24:00.125131",
     "exception": false,
     "start_time": "2024-12-29T10:24:00.111667",
     "status": "completed"
    },
    "tags": []
   },
   "outputs": [
    {
     "data": {
      "text/plain": [
       "array([[0., 0., 0., 0., 0., 0.],\n",
       "       [0., 0., 0., 0., 0., 0.],\n",
       "       [0., 0., 0., 0., 0., 0.]])"
      ]
     },
     "execution_count": 14,
     "metadata": {},
     "output_type": "execute_result"
    }
   ],
   "source": [
    "np.zeros((3,6))"
   ]
  },
  {
   "cell_type": "code",
   "execution_count": 15,
   "id": "fab14898",
   "metadata": {
    "execution": {
     "iopub.execute_input": "2024-12-29T10:24:00.136340Z",
     "iopub.status.busy": "2024-12-29T10:24:00.135946Z",
     "iopub.status.idle": "2024-12-29T10:24:00.142044Z",
     "shell.execute_reply": "2024-12-29T10:24:00.141074Z"
    },
    "papermill": {
     "duration": 0.013459,
     "end_time": "2024-12-29T10:24:00.143720",
     "exception": false,
     "start_time": "2024-12-29T10:24:00.130261",
     "status": "completed"
    },
    "tags": []
   },
   "outputs": [
    {
     "data": {
      "text/plain": [
       "array([[[5.02234254e-310, 0.00000000e+000],\n",
       "        [0.00000000e+000, 0.00000000e+000],\n",
       "        [0.00000000e+000, 0.00000000e+000]],\n",
       "\n",
       "       [[0.00000000e+000, 0.00000000e+000],\n",
       "        [0.00000000e+000, 0.00000000e+000],\n",
       "        [0.00000000e+000, 0.00000000e+000]]])"
      ]
     },
     "execution_count": 15,
     "metadata": {},
     "output_type": "execute_result"
    }
   ],
   "source": [
    "np.empty((2,3,2))"
   ]
  },
  {
   "cell_type": "code",
   "execution_count": 16,
   "id": "f310f775",
   "metadata": {
    "execution": {
     "iopub.execute_input": "2024-12-29T10:24:00.154647Z",
     "iopub.status.busy": "2024-12-29T10:24:00.154326Z",
     "iopub.status.idle": "2024-12-29T10:24:00.160243Z",
     "shell.execute_reply": "2024-12-29T10:24:00.159120Z"
    },
    "papermill": {
     "duration": 0.013371,
     "end_time": "2024-12-29T10:24:00.162028",
     "exception": false,
     "start_time": "2024-12-29T10:24:00.148657",
     "status": "completed"
    },
    "tags": []
   },
   "outputs": [
    {
     "data": {
      "text/plain": [
       "array([ 0,  1,  2,  3,  4,  5,  6,  7,  8,  9, 10, 11, 12, 13, 14])"
      ]
     },
     "execution_count": 16,
     "metadata": {},
     "output_type": "execute_result"
    }
   ],
   "source": [
    "np.arange(15)"
   ]
  }
 ],
 "metadata": {
  "kaggle": {
   "accelerator": "none",
   "dataSources": [],
   "dockerImageVersionId": 30822,
   "isGpuEnabled": false,
   "isInternetEnabled": true,
   "language": "python",
   "sourceType": "notebook"
  },
  "kernelspec": {
   "display_name": "Python 3",
   "language": "python",
   "name": "python3"
  },
  "language_info": {
   "codemirror_mode": {
    "name": "ipython",
    "version": 3
   },
   "file_extension": ".py",
   "mimetype": "text/x-python",
   "name": "python",
   "nbconvert_exporter": "python",
   "pygments_lexer": "ipython3",
   "version": "3.10.12"
  },
  "papermill": {
   "default_parameters": {},
   "duration": 3.484162,
   "end_time": "2024-12-29T10:24:00.688386",
   "environment_variables": {},
   "exception": null,
   "input_path": "__notebook__.ipynb",
   "output_path": "__notebook__.ipynb",
   "parameters": {},
   "start_time": "2024-12-29T10:23:57.204224",
   "version": "2.6.0"
  }
 },
 "nbformat": 4,
 "nbformat_minor": 5
}
