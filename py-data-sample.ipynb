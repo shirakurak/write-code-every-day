{
 "cells": [
  {
   "cell_type": "code",
   "execution_count": 1,
   "id": "72a28d50",
   "metadata": {
    "_cell_guid": "b1076dfc-b9ad-4769-8c92-a6c4dae69d19",
    "_uuid": "8f2839f25d086af736a60e9eeb907d3b93b6e0e5",
    "execution": {
     "iopub.execute_input": "2024-12-30T13:53:14.002250Z",
     "iopub.status.busy": "2024-12-30T13:53:14.001808Z",
     "iopub.status.idle": "2024-12-30T13:53:14.398365Z",
     "shell.execute_reply": "2024-12-30T13:53:14.397305Z"
    },
    "papermill": {
     "duration": 0.404936,
     "end_time": "2024-12-30T13:53:14.400487",
     "exception": false,
     "start_time": "2024-12-30T13:53:13.995551",
     "status": "completed"
    },
    "tags": []
   },
   "outputs": [],
   "source": [
    "# This Python 3 environment comes with many helpful analytics libraries installed\n",
    "# It is defined by the kaggle/python Docker image: https://github.com/kaggle/docker-python\n",
    "# For example, here's several helpful packages to load\n",
    "\n",
    "import numpy as np # linear algebra\n",
    "import pandas as pd # data processing, CSV file I/O (e.g. pd.read_csv)\n",
    "\n",
    "# Input data files are available in the read-only \"../input/\" directory\n",
    "# For example, running this (by clicking run or pressing Shift+Enter) will list all files under the input directory\n",
    "\n",
    "import os\n",
    "for dirname, _, filenames in os.walk('/kaggle/input'):\n",
    "    for filename in filenames:\n",
    "        print(os.path.join(dirname, filename))\n",
    "\n",
    "# You can write up to 20GB to the current directory (/kaggle/working/) that gets preserved as output when you create a version using \"Save & Run All\" \n",
    "# You can also write temporary files to /kaggle/temp/, but they won't be saved outside of the current session"
   ]
  },
  {
   "cell_type": "code",
   "execution_count": 2,
   "id": "041b619b",
   "metadata": {
    "execution": {
     "iopub.execute_input": "2024-12-30T13:53:14.410161Z",
     "iopub.status.busy": "2024-12-30T13:53:14.409646Z",
     "iopub.status.idle": "2024-12-30T13:53:14.419808Z",
     "shell.execute_reply": "2024-12-30T13:53:14.418796Z"
    },
    "papermill": {
     "duration": 0.01713,
     "end_time": "2024-12-30T13:53:14.421949",
     "exception": false,
     "start_time": "2024-12-30T13:53:14.404819",
     "status": "completed"
    },
    "tags": []
   },
   "outputs": [
    {
     "data": {
      "text/plain": [
       "array([[ 1.5, -0.1,  3. ],\n",
       "       [ 0. , -3. ,  6.5]])"
      ]
     },
     "execution_count": 2,
     "metadata": {},
     "output_type": "execute_result"
    }
   ],
   "source": [
    "data = np.array([[1.5, -0.1, 3], [0, -3, 6.5]])\n",
    "data"
   ]
  },
  {
   "cell_type": "code",
   "execution_count": 3,
   "id": "dc40d86c",
   "metadata": {
    "execution": {
     "iopub.execute_input": "2024-12-30T13:53:14.432441Z",
     "iopub.status.busy": "2024-12-30T13:53:14.432080Z",
     "iopub.status.idle": "2024-12-30T13:53:14.438374Z",
     "shell.execute_reply": "2024-12-30T13:53:14.437315Z"
    },
    "papermill": {
     "duration": 0.014005,
     "end_time": "2024-12-30T13:53:14.440291",
     "exception": false,
     "start_time": "2024-12-30T13:53:14.426286",
     "status": "completed"
    },
    "tags": []
   },
   "outputs": [
    {
     "data": {
      "text/plain": [
       "array([[ 15.,  -1.,  30.],\n",
       "       [  0., -30.,  65.]])"
      ]
     },
     "execution_count": 3,
     "metadata": {},
     "output_type": "execute_result"
    }
   ],
   "source": [
    "data * 10"
   ]
  },
  {
   "cell_type": "code",
   "execution_count": 4,
   "id": "bb03436c",
   "metadata": {
    "execution": {
     "iopub.execute_input": "2024-12-30T13:53:14.450157Z",
     "iopub.status.busy": "2024-12-30T13:53:14.449764Z",
     "iopub.status.idle": "2024-12-30T13:53:14.456826Z",
     "shell.execute_reply": "2024-12-30T13:53:14.455560Z"
    },
    "papermill": {
     "duration": 0.014068,
     "end_time": "2024-12-30T13:53:14.458722",
     "exception": false,
     "start_time": "2024-12-30T13:53:14.444654",
     "status": "completed"
    },
    "tags": []
   },
   "outputs": [
    {
     "data": {
      "text/plain": [
       "array([[ 3. , -0.2,  6. ],\n",
       "       [ 0. , -6. , 13. ]])"
      ]
     },
     "execution_count": 4,
     "metadata": {},
     "output_type": "execute_result"
    }
   ],
   "source": [
    "data + data"
   ]
  },
  {
   "cell_type": "code",
   "execution_count": 5,
   "id": "676c744e",
   "metadata": {
    "execution": {
     "iopub.execute_input": "2024-12-30T13:53:14.468766Z",
     "iopub.status.busy": "2024-12-30T13:53:14.468419Z",
     "iopub.status.idle": "2024-12-30T13:53:14.475015Z",
     "shell.execute_reply": "2024-12-30T13:53:14.473893Z"
    },
    "papermill": {
     "duration": 0.014241,
     "end_time": "2024-12-30T13:53:14.477468",
     "exception": false,
     "start_time": "2024-12-30T13:53:14.463227",
     "status": "completed"
    },
    "tags": []
   },
   "outputs": [
    {
     "data": {
      "text/plain": [
       "(2, 3)"
      ]
     },
     "execution_count": 5,
     "metadata": {},
     "output_type": "execute_result"
    }
   ],
   "source": [
    "data.shape"
   ]
  },
  {
   "cell_type": "code",
   "execution_count": 6,
   "id": "affd4032",
   "metadata": {
    "execution": {
     "iopub.execute_input": "2024-12-30T13:53:14.488525Z",
     "iopub.status.busy": "2024-12-30T13:53:14.488149Z",
     "iopub.status.idle": "2024-12-30T13:53:14.493961Z",
     "shell.execute_reply": "2024-12-30T13:53:14.493014Z"
    },
    "papermill": {
     "duration": 0.013159,
     "end_time": "2024-12-30T13:53:14.495739",
     "exception": false,
     "start_time": "2024-12-30T13:53:14.482580",
     "status": "completed"
    },
    "tags": []
   },
   "outputs": [
    {
     "data": {
      "text/plain": [
       "dtype('float64')"
      ]
     },
     "execution_count": 6,
     "metadata": {},
     "output_type": "execute_result"
    }
   ],
   "source": [
    "data.dtype"
   ]
  },
  {
   "cell_type": "code",
   "execution_count": 7,
   "id": "cb246c0c",
   "metadata": {
    "execution": {
     "iopub.execute_input": "2024-12-30T13:53:14.506117Z",
     "iopub.status.busy": "2024-12-30T13:53:14.505706Z",
     "iopub.status.idle": "2024-12-30T13:53:14.512171Z",
     "shell.execute_reply": "2024-12-30T13:53:14.511124Z"
    },
    "papermill": {
     "duration": 0.013403,
     "end_time": "2024-12-30T13:53:14.513748",
     "exception": false,
     "start_time": "2024-12-30T13:53:14.500345",
     "status": "completed"
    },
    "tags": []
   },
   "outputs": [
    {
     "data": {
      "text/plain": [
       "array([6. , 7.5, 8. , 0. , 1. ])"
      ]
     },
     "execution_count": 7,
     "metadata": {},
     "output_type": "execute_result"
    }
   ],
   "source": [
    "data1 = [6, 7.5, 8, 0, 1]\n",
    "arr1 = np.array(data1)\n",
    "arr1"
   ]
  },
  {
   "cell_type": "code",
   "execution_count": 8,
   "id": "9fdbb5d5",
   "metadata": {
    "execution": {
     "iopub.execute_input": "2024-12-30T13:53:14.524453Z",
     "iopub.status.busy": "2024-12-30T13:53:14.524098Z",
     "iopub.status.idle": "2024-12-30T13:53:14.530363Z",
     "shell.execute_reply": "2024-12-30T13:53:14.529315Z"
    },
    "papermill": {
     "duration": 0.013681,
     "end_time": "2024-12-30T13:53:14.532086",
     "exception": false,
     "start_time": "2024-12-30T13:53:14.518405",
     "status": "completed"
    },
    "tags": []
   },
   "outputs": [
    {
     "data": {
      "text/plain": [
       "array([[1, 2, 3, 4],\n",
       "       [5, 6, 7, 8]])"
      ]
     },
     "execution_count": 8,
     "metadata": {},
     "output_type": "execute_result"
    }
   ],
   "source": [
    "data2 = [[1,2,3,4],[5,6,7,8]]\n",
    "arr2 = np.array(data2)\n",
    "arr2"
   ]
  },
  {
   "cell_type": "code",
   "execution_count": 9,
   "id": "7a900464",
   "metadata": {
    "execution": {
     "iopub.execute_input": "2024-12-30T13:53:14.542512Z",
     "iopub.status.busy": "2024-12-30T13:53:14.542183Z",
     "iopub.status.idle": "2024-12-30T13:53:14.547811Z",
     "shell.execute_reply": "2024-12-30T13:53:14.546752Z"
    },
    "papermill": {
     "duration": 0.012638,
     "end_time": "2024-12-30T13:53:14.549454",
     "exception": false,
     "start_time": "2024-12-30T13:53:14.536816",
     "status": "completed"
    },
    "tags": []
   },
   "outputs": [
    {
     "data": {
      "text/plain": [
       "2"
      ]
     },
     "execution_count": 9,
     "metadata": {},
     "output_type": "execute_result"
    }
   ],
   "source": [
    "arr2.ndim"
   ]
  },
  {
   "cell_type": "code",
   "execution_count": 10,
   "id": "9f4b587f",
   "metadata": {
    "execution": {
     "iopub.execute_input": "2024-12-30T13:53:14.560121Z",
     "iopub.status.busy": "2024-12-30T13:53:14.559724Z",
     "iopub.status.idle": "2024-12-30T13:53:14.565487Z",
     "shell.execute_reply": "2024-12-30T13:53:14.564394Z"
    },
    "papermill": {
     "duration": 0.012935,
     "end_time": "2024-12-30T13:53:14.567214",
     "exception": false,
     "start_time": "2024-12-30T13:53:14.554279",
     "status": "completed"
    },
    "tags": []
   },
   "outputs": [
    {
     "data": {
      "text/plain": [
       "(2, 4)"
      ]
     },
     "execution_count": 10,
     "metadata": {},
     "output_type": "execute_result"
    }
   ],
   "source": [
    "arr2.shape"
   ]
  },
  {
   "cell_type": "code",
   "execution_count": 11,
   "id": "6edccd1c",
   "metadata": {
    "execution": {
     "iopub.execute_input": "2024-12-30T13:53:14.578026Z",
     "iopub.status.busy": "2024-12-30T13:53:14.577625Z",
     "iopub.status.idle": "2024-12-30T13:53:14.583343Z",
     "shell.execute_reply": "2024-12-30T13:53:14.582308Z"
    },
    "papermill": {
     "duration": 0.012991,
     "end_time": "2024-12-30T13:53:14.585006",
     "exception": false,
     "start_time": "2024-12-30T13:53:14.572015",
     "status": "completed"
    },
    "tags": []
   },
   "outputs": [
    {
     "data": {
      "text/plain": [
       "dtype('float64')"
      ]
     },
     "execution_count": 11,
     "metadata": {},
     "output_type": "execute_result"
    }
   ],
   "source": [
    "arr1.dtype"
   ]
  },
  {
   "cell_type": "code",
   "execution_count": 12,
   "id": "801ba9f2",
   "metadata": {
    "execution": {
     "iopub.execute_input": "2024-12-30T13:53:14.596393Z",
     "iopub.status.busy": "2024-12-30T13:53:14.596030Z",
     "iopub.status.idle": "2024-12-30T13:53:14.601674Z",
     "shell.execute_reply": "2024-12-30T13:53:14.600750Z"
    },
    "papermill": {
     "duration": 0.01327,
     "end_time": "2024-12-30T13:53:14.603453",
     "exception": false,
     "start_time": "2024-12-30T13:53:14.590183",
     "status": "completed"
    },
    "tags": []
   },
   "outputs": [
    {
     "data": {
      "text/plain": [
       "dtype('int64')"
      ]
     },
     "execution_count": 12,
     "metadata": {},
     "output_type": "execute_result"
    }
   ],
   "source": [
    "arr2.dtype"
   ]
  },
  {
   "cell_type": "code",
   "execution_count": 13,
   "id": "ca91589d",
   "metadata": {
    "execution": {
     "iopub.execute_input": "2024-12-30T13:53:14.614932Z",
     "iopub.status.busy": "2024-12-30T13:53:14.614532Z",
     "iopub.status.idle": "2024-12-30T13:53:14.620631Z",
     "shell.execute_reply": "2024-12-30T13:53:14.619590Z"
    },
    "papermill": {
     "duration": 0.013962,
     "end_time": "2024-12-30T13:53:14.622547",
     "exception": false,
     "start_time": "2024-12-30T13:53:14.608585",
     "status": "completed"
    },
    "tags": []
   },
   "outputs": [
    {
     "data": {
      "text/plain": [
       "array([0., 0., 0., 0., 0., 0., 0., 0., 0., 0.])"
      ]
     },
     "execution_count": 13,
     "metadata": {},
     "output_type": "execute_result"
    }
   ],
   "source": [
    "np.zeros(10)"
   ]
  },
  {
   "cell_type": "code",
   "execution_count": 14,
   "id": "905d96b8",
   "metadata": {
    "execution": {
     "iopub.execute_input": "2024-12-30T13:53:14.634501Z",
     "iopub.status.busy": "2024-12-30T13:53:14.634149Z",
     "iopub.status.idle": "2024-12-30T13:53:14.640443Z",
     "shell.execute_reply": "2024-12-30T13:53:14.639391Z"
    },
    "papermill": {
     "duration": 0.014289,
     "end_time": "2024-12-30T13:53:14.642391",
     "exception": false,
     "start_time": "2024-12-30T13:53:14.628102",
     "status": "completed"
    },
    "tags": []
   },
   "outputs": [
    {
     "data": {
      "text/plain": [
       "array([[0., 0., 0., 0., 0., 0.],\n",
       "       [0., 0., 0., 0., 0., 0.],\n",
       "       [0., 0., 0., 0., 0., 0.]])"
      ]
     },
     "execution_count": 14,
     "metadata": {},
     "output_type": "execute_result"
    }
   ],
   "source": [
    "np.zeros((3,6))"
   ]
  },
  {
   "cell_type": "code",
   "execution_count": 15,
   "id": "6b902d61",
   "metadata": {
    "execution": {
     "iopub.execute_input": "2024-12-30T13:53:14.653981Z",
     "iopub.status.busy": "2024-12-30T13:53:14.653605Z",
     "iopub.status.idle": "2024-12-30T13:53:14.659894Z",
     "shell.execute_reply": "2024-12-30T13:53:14.658999Z"
    },
    "papermill": {
     "duration": 0.014016,
     "end_time": "2024-12-30T13:53:14.661593",
     "exception": false,
     "start_time": "2024-12-30T13:53:14.647577",
     "status": "completed"
    },
    "tags": []
   },
   "outputs": [
    {
     "data": {
      "text/plain": [
       "array([[[4.64279568e-310, 0.00000000e+000],\n",
       "        [0.00000000e+000, 0.00000000e+000],\n",
       "        [0.00000000e+000, 0.00000000e+000]],\n",
       "\n",
       "       [[0.00000000e+000, 0.00000000e+000],\n",
       "        [0.00000000e+000, 0.00000000e+000],\n",
       "        [0.00000000e+000, 0.00000000e+000]]])"
      ]
     },
     "execution_count": 15,
     "metadata": {},
     "output_type": "execute_result"
    }
   ],
   "source": [
    "np.empty((2,3,2))"
   ]
  },
  {
   "cell_type": "code",
   "execution_count": 16,
   "id": "d8f0bcba",
   "metadata": {
    "execution": {
     "iopub.execute_input": "2024-12-30T13:53:14.673538Z",
     "iopub.status.busy": "2024-12-30T13:53:14.673200Z",
     "iopub.status.idle": "2024-12-30T13:53:14.678945Z",
     "shell.execute_reply": "2024-12-30T13:53:14.678097Z"
    },
    "papermill": {
     "duration": 0.013565,
     "end_time": "2024-12-30T13:53:14.680597",
     "exception": false,
     "start_time": "2024-12-30T13:53:14.667032",
     "status": "completed"
    },
    "tags": []
   },
   "outputs": [
    {
     "data": {
      "text/plain": [
       "array([ 0,  1,  2,  3,  4,  5,  6,  7,  8,  9, 10, 11, 12, 13, 14])"
      ]
     },
     "execution_count": 16,
     "metadata": {},
     "output_type": "execute_result"
    }
   ],
   "source": [
    "np.arange(15)"
   ]
  },
  {
   "cell_type": "code",
   "execution_count": 17,
   "id": "cf9c0968",
   "metadata": {
    "execution": {
     "iopub.execute_input": "2024-12-30T13:53:14.692787Z",
     "iopub.status.busy": "2024-12-30T13:53:14.692371Z",
     "iopub.status.idle": "2024-12-30T13:53:14.698642Z",
     "shell.execute_reply": "2024-12-30T13:53:14.697580Z"
    },
    "papermill": {
     "duration": 0.014407,
     "end_time": "2024-12-30T13:53:14.700507",
     "exception": false,
     "start_time": "2024-12-30T13:53:14.686100",
     "status": "completed"
    },
    "tags": []
   },
   "outputs": [
    {
     "data": {
      "text/plain": [
       "dtype('float64')"
      ]
     },
     "execution_count": 17,
     "metadata": {},
     "output_type": "execute_result"
    }
   ],
   "source": [
    "arr1 = np.array([1,2,3], dtype=np.float64)\n",
    "arr1.dtype"
   ]
  }
 ],
 "metadata": {
  "kaggle": {
   "accelerator": "none",
   "dataSources": [],
   "dockerImageVersionId": 30822,
   "isGpuEnabled": false,
   "isInternetEnabled": true,
   "language": "python",
   "sourceType": "notebook"
  },
  "kernelspec": {
   "display_name": "Python 3",
   "language": "python",
   "name": "python3"
  },
  "language_info": {
   "codemirror_mode": {
    "name": "ipython",
    "version": 3
   },
   "file_extension": ".py",
   "mimetype": "text/x-python",
   "name": "python",
   "nbconvert_exporter": "python",
   "pygments_lexer": "ipython3",
   "version": "3.10.12"
  },
  "papermill": {
   "default_parameters": {},
   "duration": 3.542328,
   "end_time": "2024-12-30T13:53:15.228011",
   "environment_variables": {},
   "exception": null,
   "input_path": "__notebook__.ipynb",
   "output_path": "__notebook__.ipynb",
   "parameters": {},
   "start_time": "2024-12-30T13:53:11.685683",
   "version": "2.6.0"
  }
 },
 "nbformat": 4,
 "nbformat_minor": 5
}
