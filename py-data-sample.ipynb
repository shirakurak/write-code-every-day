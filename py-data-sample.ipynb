{
 "cells": [
  {
   "cell_type": "code",
   "execution_count": 1,
   "id": "7d2fcbad",
   "metadata": {
    "_cell_guid": "b1076dfc-b9ad-4769-8c92-a6c4dae69d19",
    "_uuid": "8f2839f25d086af736a60e9eeb907d3b93b6e0e5",
    "execution": {
     "iopub.execute_input": "2024-12-28T06:56:44.650485Z",
     "iopub.status.busy": "2024-12-28T06:56:44.650105Z",
     "iopub.status.idle": "2024-12-28T06:56:45.329837Z",
     "shell.execute_reply": "2024-12-28T06:56:45.328932Z"
    },
    "papermill": {
     "duration": 0.685452,
     "end_time": "2024-12-28T06:56:45.331663",
     "exception": false,
     "start_time": "2024-12-28T06:56:44.646211",
     "status": "completed"
    },
    "tags": []
   },
   "outputs": [],
   "source": [
    "# This Python 3 environment comes with many helpful analytics libraries installed\n",
    "# It is defined by the kaggle/python Docker image: https://github.com/kaggle/docker-python\n",
    "# For example, here's several helpful packages to load\n",
    "\n",
    "import numpy as np # linear algebra\n",
    "import pandas as pd # data processing, CSV file I/O (e.g. pd.read_csv)\n",
    "\n",
    "# Input data files are available in the read-only \"../input/\" directory\n",
    "# For example, running this (by clicking run or pressing Shift+Enter) will list all files under the input directory\n",
    "\n",
    "import os\n",
    "for dirname, _, filenames in os.walk('/kaggle/input'):\n",
    "    for filename in filenames:\n",
    "        print(os.path.join(dirname, filename))\n",
    "\n",
    "# You can write up to 20GB to the current directory (/kaggle/working/) that gets preserved as output when you create a version using \"Save & Run All\" \n",
    "# You can also write temporary files to /kaggle/temp/, but they won't be saved outside of the current session"
   ]
  },
  {
   "cell_type": "code",
   "execution_count": 2,
   "id": "9bbc398b",
   "metadata": {
    "execution": {
     "iopub.execute_input": "2024-12-28T06:56:45.337247Z",
     "iopub.status.busy": "2024-12-28T06:56:45.336850Z",
     "iopub.status.idle": "2024-12-28T06:56:45.344633Z",
     "shell.execute_reply": "2024-12-28T06:56:45.343598Z"
    },
    "papermill": {
     "duration": 0.012075,
     "end_time": "2024-12-28T06:56:45.346304",
     "exception": false,
     "start_time": "2024-12-28T06:56:45.334229",
     "status": "completed"
    },
    "tags": []
   },
   "outputs": [
    {
     "data": {
      "text/plain": [
       "array([[ 1.5, -0.1,  3. ],\n",
       "       [ 0. , -3. ,  6.5]])"
      ]
     },
     "execution_count": 2,
     "metadata": {},
     "output_type": "execute_result"
    }
   ],
   "source": [
    "data = np.array([[1.5, -0.1, 3], [0, -3, 6.5]])\n",
    "data"
   ]
  },
  {
   "cell_type": "code",
   "execution_count": 3,
   "id": "af559e6c",
   "metadata": {
    "execution": {
     "iopub.execute_input": "2024-12-28T06:56:45.351948Z",
     "iopub.status.busy": "2024-12-28T06:56:45.351613Z",
     "iopub.status.idle": "2024-12-28T06:56:45.357319Z",
     "shell.execute_reply": "2024-12-28T06:56:45.356359Z"
    },
    "papermill": {
     "duration": 0.010249,
     "end_time": "2024-12-28T06:56:45.359027",
     "exception": false,
     "start_time": "2024-12-28T06:56:45.348778",
     "status": "completed"
    },
    "tags": []
   },
   "outputs": [
    {
     "data": {
      "text/plain": [
       "array([[ 15.,  -1.,  30.],\n",
       "       [  0., -30.,  65.]])"
      ]
     },
     "execution_count": 3,
     "metadata": {},
     "output_type": "execute_result"
    }
   ],
   "source": [
    "data * 10"
   ]
  },
  {
   "cell_type": "code",
   "execution_count": 4,
   "id": "d4d5019f",
   "metadata": {
    "execution": {
     "iopub.execute_input": "2024-12-28T06:56:45.364524Z",
     "iopub.status.busy": "2024-12-28T06:56:45.364243Z",
     "iopub.status.idle": "2024-12-28T06:56:45.369533Z",
     "shell.execute_reply": "2024-12-28T06:56:45.368618Z"
    },
    "papermill": {
     "duration": 0.009733,
     "end_time": "2024-12-28T06:56:45.371060",
     "exception": false,
     "start_time": "2024-12-28T06:56:45.361327",
     "status": "completed"
    },
    "tags": []
   },
   "outputs": [
    {
     "data": {
      "text/plain": [
       "array([[ 3. , -0.2,  6. ],\n",
       "       [ 0. , -6. , 13. ]])"
      ]
     },
     "execution_count": 4,
     "metadata": {},
     "output_type": "execute_result"
    }
   ],
   "source": [
    "data + data"
   ]
  },
  {
   "cell_type": "code",
   "execution_count": 5,
   "id": "391bd7f6",
   "metadata": {
    "execution": {
     "iopub.execute_input": "2024-12-28T06:56:45.376429Z",
     "iopub.status.busy": "2024-12-28T06:56:45.376180Z",
     "iopub.status.idle": "2024-12-28T06:56:45.381098Z",
     "shell.execute_reply": "2024-12-28T06:56:45.380128Z"
    },
    "papermill": {
     "duration": 0.009137,
     "end_time": "2024-12-28T06:56:45.382463",
     "exception": false,
     "start_time": "2024-12-28T06:56:45.373326",
     "status": "completed"
    },
    "tags": []
   },
   "outputs": [
    {
     "data": {
      "text/plain": [
       "(2, 3)"
      ]
     },
     "execution_count": 5,
     "metadata": {},
     "output_type": "execute_result"
    }
   ],
   "source": [
    "data.shape"
   ]
  },
  {
   "cell_type": "code",
   "execution_count": 6,
   "id": "fa652aba",
   "metadata": {
    "execution": {
     "iopub.execute_input": "2024-12-28T06:56:45.387828Z",
     "iopub.status.busy": "2024-12-28T06:56:45.387524Z",
     "iopub.status.idle": "2024-12-28T06:56:45.392417Z",
     "shell.execute_reply": "2024-12-28T06:56:45.391667Z"
    },
    "papermill": {
     "duration": 0.009171,
     "end_time": "2024-12-28T06:56:45.393913",
     "exception": false,
     "start_time": "2024-12-28T06:56:45.384742",
     "status": "completed"
    },
    "tags": []
   },
   "outputs": [
    {
     "data": {
      "text/plain": [
       "dtype('float64')"
      ]
     },
     "execution_count": 6,
     "metadata": {},
     "output_type": "execute_result"
    }
   ],
   "source": [
    "data.dtype"
   ]
  }
 ],
 "metadata": {
  "kaggle": {
   "accelerator": "none",
   "dataSources": [],
   "dockerImageVersionId": 30822,
   "isGpuEnabled": false,
   "isInternetEnabled": true,
   "language": "python",
   "sourceType": "notebook"
  },
  "kernelspec": {
   "display_name": "Python 3",
   "language": "python",
   "name": "python3"
  },
  "language_info": {
   "codemirror_mode": {
    "name": "ipython",
    "version": 3
   },
   "file_extension": ".py",
   "mimetype": "text/x-python",
   "name": "python",
   "nbconvert_exporter": "python",
   "pygments_lexer": "ipython3",
   "version": "3.10.12"
  },
  "papermill": {
   "default_parameters": {},
   "duration": 3.758046,
   "end_time": "2024-12-28T06:56:45.915281",
   "environment_variables": {},
   "exception": null,
   "input_path": "__notebook__.ipynb",
   "output_path": "__notebook__.ipynb",
   "parameters": {},
   "start_time": "2024-12-28T06:56:42.157235",
   "version": "2.6.0"
  }
 },
 "nbformat": 4,
 "nbformat_minor": 5
}
