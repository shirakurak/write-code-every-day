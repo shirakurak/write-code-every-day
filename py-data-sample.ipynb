{
 "cells": [
  {
   "cell_type": "code",
   "execution_count": 1,
   "id": "71d7a449",
   "metadata": {
    "_cell_guid": "b1076dfc-b9ad-4769-8c92-a6c4dae69d19",
    "_uuid": "8f2839f25d086af736a60e9eeb907d3b93b6e0e5",
    "execution": {
     "iopub.execute_input": "2024-12-31T05:53:59.548478Z",
     "iopub.status.busy": "2024-12-31T05:53:59.548136Z",
     "iopub.status.idle": "2024-12-31T05:53:59.924762Z",
     "shell.execute_reply": "2024-12-31T05:53:59.923768Z"
    },
    "papermill": {
     "duration": 0.385675,
     "end_time": "2024-12-31T05:53:59.926536",
     "exception": false,
     "start_time": "2024-12-31T05:53:59.540861",
     "status": "completed"
    },
    "tags": []
   },
   "outputs": [],
   "source": [
    "# This Python 3 environment comes with many helpful analytics libraries installed\n",
    "# It is defined by the kaggle/python Docker image: https://github.com/kaggle/docker-python\n",
    "# For example, here's several helpful packages to load\n",
    "\n",
    "import numpy as np # linear algebra\n",
    "import pandas as pd # data processing, CSV file I/O (e.g. pd.read_csv)\n",
    "\n",
    "# Input data files are available in the read-only \"../input/\" directory\n",
    "# For example, running this (by clicking run or pressing Shift+Enter) will list all files under the input directory\n",
    "\n",
    "import os\n",
    "for dirname, _, filenames in os.walk('/kaggle/input'):\n",
    "    for filename in filenames:\n",
    "        print(os.path.join(dirname, filename))\n",
    "\n",
    "# You can write up to 20GB to the current directory (/kaggle/working/) that gets preserved as output when you create a version using \"Save & Run All\" \n",
    "# You can also write temporary files to /kaggle/temp/, but they won't be saved outside of the current session"
   ]
  },
  {
   "cell_type": "code",
   "execution_count": 2,
   "id": "2a0cf38f",
   "metadata": {
    "execution": {
     "iopub.execute_input": "2024-12-31T05:53:59.938665Z",
     "iopub.status.busy": "2024-12-31T05:53:59.938231Z",
     "iopub.status.idle": "2024-12-31T05:53:59.946362Z",
     "shell.execute_reply": "2024-12-31T05:53:59.945426Z"
    },
    "papermill": {
     "duration": 0.01574,
     "end_time": "2024-12-31T05:53:59.947843",
     "exception": false,
     "start_time": "2024-12-31T05:53:59.932103",
     "status": "completed"
    },
    "tags": []
   },
   "outputs": [
    {
     "data": {
      "text/plain": [
       "array([[ 1.5, -0.1,  3. ],\n",
       "       [ 0. , -3. ,  6.5]])"
      ]
     },
     "execution_count": 2,
     "metadata": {},
     "output_type": "execute_result"
    }
   ],
   "source": [
    "data = np.array([[1.5, -0.1, 3], [0, -3, 6.5]])\n",
    "data"
   ]
  },
  {
   "cell_type": "code",
   "execution_count": 3,
   "id": "e99d4d52",
   "metadata": {
    "execution": {
     "iopub.execute_input": "2024-12-31T05:53:59.959376Z",
     "iopub.status.busy": "2024-12-31T05:53:59.959060Z",
     "iopub.status.idle": "2024-12-31T05:53:59.964504Z",
     "shell.execute_reply": "2024-12-31T05:53:59.963523Z"
    },
    "papermill": {
     "duration": 0.013026,
     "end_time": "2024-12-31T05:53:59.966200",
     "exception": false,
     "start_time": "2024-12-31T05:53:59.953174",
     "status": "completed"
    },
    "tags": []
   },
   "outputs": [
    {
     "data": {
      "text/plain": [
       "array([[ 15.,  -1.,  30.],\n",
       "       [  0., -30.,  65.]])"
      ]
     },
     "execution_count": 3,
     "metadata": {},
     "output_type": "execute_result"
    }
   ],
   "source": [
    "data * 10"
   ]
  },
  {
   "cell_type": "code",
   "execution_count": 4,
   "id": "cae107c1",
   "metadata": {
    "execution": {
     "iopub.execute_input": "2024-12-31T05:53:59.978594Z",
     "iopub.status.busy": "2024-12-31T05:53:59.978245Z",
     "iopub.status.idle": "2024-12-31T05:53:59.983788Z",
     "shell.execute_reply": "2024-12-31T05:53:59.982854Z"
    },
    "papermill": {
     "duration": 0.013365,
     "end_time": "2024-12-31T05:53:59.985432",
     "exception": false,
     "start_time": "2024-12-31T05:53:59.972067",
     "status": "completed"
    },
    "tags": []
   },
   "outputs": [
    {
     "data": {
      "text/plain": [
       "array([[ 3. , -0.2,  6. ],\n",
       "       [ 0. , -6. , 13. ]])"
      ]
     },
     "execution_count": 4,
     "metadata": {},
     "output_type": "execute_result"
    }
   ],
   "source": [
    "data + data"
   ]
  },
  {
   "cell_type": "code",
   "execution_count": 5,
   "id": "00c0e451",
   "metadata": {
    "execution": {
     "iopub.execute_input": "2024-12-31T05:53:59.997495Z",
     "iopub.status.busy": "2024-12-31T05:53:59.997179Z",
     "iopub.status.idle": "2024-12-31T05:54:00.002590Z",
     "shell.execute_reply": "2024-12-31T05:54:00.001623Z"
    },
    "papermill": {
     "duration": 0.013496,
     "end_time": "2024-12-31T05:54:00.004400",
     "exception": false,
     "start_time": "2024-12-31T05:53:59.990904",
     "status": "completed"
    },
    "tags": []
   },
   "outputs": [
    {
     "data": {
      "text/plain": [
       "(2, 3)"
      ]
     },
     "execution_count": 5,
     "metadata": {},
     "output_type": "execute_result"
    }
   ],
   "source": [
    "data.shape"
   ]
  },
  {
   "cell_type": "code",
   "execution_count": 6,
   "id": "ddd0bc1f",
   "metadata": {
    "execution": {
     "iopub.execute_input": "2024-12-31T05:54:00.017190Z",
     "iopub.status.busy": "2024-12-31T05:54:00.016759Z",
     "iopub.status.idle": "2024-12-31T05:54:00.022491Z",
     "shell.execute_reply": "2024-12-31T05:54:00.021512Z"
    },
    "papermill": {
     "duration": 0.013996,
     "end_time": "2024-12-31T05:54:00.024139",
     "exception": false,
     "start_time": "2024-12-31T05:54:00.010143",
     "status": "completed"
    },
    "tags": []
   },
   "outputs": [
    {
     "data": {
      "text/plain": [
       "dtype('float64')"
      ]
     },
     "execution_count": 6,
     "metadata": {},
     "output_type": "execute_result"
    }
   ],
   "source": [
    "data.dtype"
   ]
  },
  {
   "cell_type": "code",
   "execution_count": 7,
   "id": "53e83e71",
   "metadata": {
    "execution": {
     "iopub.execute_input": "2024-12-31T05:54:00.037206Z",
     "iopub.status.busy": "2024-12-31T05:54:00.036799Z",
     "iopub.status.idle": "2024-12-31T05:54:00.042890Z",
     "shell.execute_reply": "2024-12-31T05:54:00.041912Z"
    },
    "papermill": {
     "duration": 0.014517,
     "end_time": "2024-12-31T05:54:00.044569",
     "exception": false,
     "start_time": "2024-12-31T05:54:00.030052",
     "status": "completed"
    },
    "tags": []
   },
   "outputs": [
    {
     "data": {
      "text/plain": [
       "array([6. , 7.5, 8. , 0. , 1. ])"
      ]
     },
     "execution_count": 7,
     "metadata": {},
     "output_type": "execute_result"
    }
   ],
   "source": [
    "data1 = [6, 7.5, 8, 0, 1]\n",
    "arr1 = np.array(data1)\n",
    "arr1"
   ]
  },
  {
   "cell_type": "code",
   "execution_count": 8,
   "id": "898b2ce6",
   "metadata": {
    "execution": {
     "iopub.execute_input": "2024-12-31T05:54:00.057437Z",
     "iopub.status.busy": "2024-12-31T05:54:00.057103Z",
     "iopub.status.idle": "2024-12-31T05:54:00.063198Z",
     "shell.execute_reply": "2024-12-31T05:54:00.062347Z"
    },
    "papermill": {
     "duration": 0.014625,
     "end_time": "2024-12-31T05:54:00.065022",
     "exception": false,
     "start_time": "2024-12-31T05:54:00.050397",
     "status": "completed"
    },
    "tags": []
   },
   "outputs": [
    {
     "data": {
      "text/plain": [
       "array([[1, 2, 3, 4],\n",
       "       [5, 6, 7, 8]])"
      ]
     },
     "execution_count": 8,
     "metadata": {},
     "output_type": "execute_result"
    }
   ],
   "source": [
    "data2 = [[1,2,3,4],[5,6,7,8]]\n",
    "arr2 = np.array(data2)\n",
    "arr2"
   ]
  },
  {
   "cell_type": "code",
   "execution_count": 9,
   "id": "734a46fc",
   "metadata": {
    "execution": {
     "iopub.execute_input": "2024-12-31T05:54:00.078132Z",
     "iopub.status.busy": "2024-12-31T05:54:00.077748Z",
     "iopub.status.idle": "2024-12-31T05:54:00.082900Z",
     "shell.execute_reply": "2024-12-31T05:54:00.082096Z"
    },
    "papermill": {
     "duration": 0.013442,
     "end_time": "2024-12-31T05:54:00.084455",
     "exception": false,
     "start_time": "2024-12-31T05:54:00.071013",
     "status": "completed"
    },
    "tags": []
   },
   "outputs": [
    {
     "data": {
      "text/plain": [
       "2"
      ]
     },
     "execution_count": 9,
     "metadata": {},
     "output_type": "execute_result"
    }
   ],
   "source": [
    "arr2.ndim"
   ]
  },
  {
   "cell_type": "code",
   "execution_count": 10,
   "id": "03645f4c",
   "metadata": {
    "execution": {
     "iopub.execute_input": "2024-12-31T05:54:00.098428Z",
     "iopub.status.busy": "2024-12-31T05:54:00.098092Z",
     "iopub.status.idle": "2024-12-31T05:54:00.103680Z",
     "shell.execute_reply": "2024-12-31T05:54:00.102614Z"
    },
    "papermill": {
     "duration": 0.014646,
     "end_time": "2024-12-31T05:54:00.105430",
     "exception": false,
     "start_time": "2024-12-31T05:54:00.090784",
     "status": "completed"
    },
    "tags": []
   },
   "outputs": [
    {
     "data": {
      "text/plain": [
       "(2, 4)"
      ]
     },
     "execution_count": 10,
     "metadata": {},
     "output_type": "execute_result"
    }
   ],
   "source": [
    "arr2.shape"
   ]
  },
  {
   "cell_type": "code",
   "execution_count": 11,
   "id": "41d26f8b",
   "metadata": {
    "execution": {
     "iopub.execute_input": "2024-12-31T05:54:00.118553Z",
     "iopub.status.busy": "2024-12-31T05:54:00.118233Z",
     "iopub.status.idle": "2024-12-31T05:54:00.123685Z",
     "shell.execute_reply": "2024-12-31T05:54:00.122725Z"
    },
    "papermill": {
     "duration": 0.013967,
     "end_time": "2024-12-31T05:54:00.125403",
     "exception": false,
     "start_time": "2024-12-31T05:54:00.111436",
     "status": "completed"
    },
    "tags": []
   },
   "outputs": [
    {
     "data": {
      "text/plain": [
       "dtype('float64')"
      ]
     },
     "execution_count": 11,
     "metadata": {},
     "output_type": "execute_result"
    }
   ],
   "source": [
    "arr1.dtype"
   ]
  },
  {
   "cell_type": "code",
   "execution_count": 12,
   "id": "2fad1aff",
   "metadata": {
    "execution": {
     "iopub.execute_input": "2024-12-31T05:54:00.139096Z",
     "iopub.status.busy": "2024-12-31T05:54:00.138734Z",
     "iopub.status.idle": "2024-12-31T05:54:00.144012Z",
     "shell.execute_reply": "2024-12-31T05:54:00.143076Z"
    },
    "papermill": {
     "duration": 0.013755,
     "end_time": "2024-12-31T05:54:00.145538",
     "exception": false,
     "start_time": "2024-12-31T05:54:00.131783",
     "status": "completed"
    },
    "tags": []
   },
   "outputs": [
    {
     "data": {
      "text/plain": [
       "dtype('int64')"
      ]
     },
     "execution_count": 12,
     "metadata": {},
     "output_type": "execute_result"
    }
   ],
   "source": [
    "arr2.dtype"
   ]
  },
  {
   "cell_type": "code",
   "execution_count": 13,
   "id": "11933bd8",
   "metadata": {
    "execution": {
     "iopub.execute_input": "2024-12-31T05:54:00.159725Z",
     "iopub.status.busy": "2024-12-31T05:54:00.159299Z",
     "iopub.status.idle": "2024-12-31T05:54:00.165435Z",
     "shell.execute_reply": "2024-12-31T05:54:00.164565Z"
    },
    "papermill": {
     "duration": 0.015355,
     "end_time": "2024-12-31T05:54:00.167050",
     "exception": false,
     "start_time": "2024-12-31T05:54:00.151695",
     "status": "completed"
    },
    "tags": []
   },
   "outputs": [
    {
     "data": {
      "text/plain": [
       "array([0., 0., 0., 0., 0., 0., 0., 0., 0., 0.])"
      ]
     },
     "execution_count": 13,
     "metadata": {},
     "output_type": "execute_result"
    }
   ],
   "source": [
    "np.zeros(10)"
   ]
  },
  {
   "cell_type": "code",
   "execution_count": 14,
   "id": "441dad9f",
   "metadata": {
    "execution": {
     "iopub.execute_input": "2024-12-31T05:54:00.181123Z",
     "iopub.status.busy": "2024-12-31T05:54:00.180746Z",
     "iopub.status.idle": "2024-12-31T05:54:00.186805Z",
     "shell.execute_reply": "2024-12-31T05:54:00.185860Z"
    },
    "papermill": {
     "duration": 0.014895,
     "end_time": "2024-12-31T05:54:00.188445",
     "exception": false,
     "start_time": "2024-12-31T05:54:00.173550",
     "status": "completed"
    },
    "tags": []
   },
   "outputs": [
    {
     "data": {
      "text/plain": [
       "array([[0., 0., 0., 0., 0., 0.],\n",
       "       [0., 0., 0., 0., 0., 0.],\n",
       "       [0., 0., 0., 0., 0., 0.]])"
      ]
     },
     "execution_count": 14,
     "metadata": {},
     "output_type": "execute_result"
    }
   ],
   "source": [
    "np.zeros((3,6))"
   ]
  },
  {
   "cell_type": "code",
   "execution_count": 15,
   "id": "45555da6",
   "metadata": {
    "execution": {
     "iopub.execute_input": "2024-12-31T05:54:00.202416Z",
     "iopub.status.busy": "2024-12-31T05:54:00.202077Z",
     "iopub.status.idle": "2024-12-31T05:54:00.208006Z",
     "shell.execute_reply": "2024-12-31T05:54:00.207059Z"
    },
    "papermill": {
     "duration": 0.014618,
     "end_time": "2024-12-31T05:54:00.209543",
     "exception": false,
     "start_time": "2024-12-31T05:54:00.194925",
     "status": "completed"
    },
    "tags": []
   },
   "outputs": [
    {
     "data": {
      "text/plain": [
       "array([[[4.99065186e-310, 0.00000000e+000],\n",
       "        [0.00000000e+000, 0.00000000e+000],\n",
       "        [0.00000000e+000, 0.00000000e+000]],\n",
       "\n",
       "       [[0.00000000e+000, 0.00000000e+000],\n",
       "        [0.00000000e+000, 0.00000000e+000],\n",
       "        [0.00000000e+000, 0.00000000e+000]]])"
      ]
     },
     "execution_count": 15,
     "metadata": {},
     "output_type": "execute_result"
    }
   ],
   "source": [
    "np.empty((2,3,2))"
   ]
  },
  {
   "cell_type": "code",
   "execution_count": 16,
   "id": "ad190873",
   "metadata": {
    "execution": {
     "iopub.execute_input": "2024-12-31T05:54:00.223958Z",
     "iopub.status.busy": "2024-12-31T05:54:00.223622Z",
     "iopub.status.idle": "2024-12-31T05:54:00.229214Z",
     "shell.execute_reply": "2024-12-31T05:54:00.228345Z"
    },
    "papermill": {
     "duration": 0.014837,
     "end_time": "2024-12-31T05:54:00.230716",
     "exception": false,
     "start_time": "2024-12-31T05:54:00.215879",
     "status": "completed"
    },
    "tags": []
   },
   "outputs": [
    {
     "data": {
      "text/plain": [
       "array([ 0,  1,  2,  3,  4,  5,  6,  7,  8,  9, 10, 11, 12, 13, 14])"
      ]
     },
     "execution_count": 16,
     "metadata": {},
     "output_type": "execute_result"
    }
   ],
   "source": [
    "np.arange(15)"
   ]
  },
  {
   "cell_type": "code",
   "execution_count": 17,
   "id": "d6bb5e23",
   "metadata": {
    "execution": {
     "iopub.execute_input": "2024-12-31T05:54:00.245429Z",
     "iopub.status.busy": "2024-12-31T05:54:00.245093Z",
     "iopub.status.idle": "2024-12-31T05:54:00.250528Z",
     "shell.execute_reply": "2024-12-31T05:54:00.249733Z"
    },
    "papermill": {
     "duration": 0.014261,
     "end_time": "2024-12-31T05:54:00.252019",
     "exception": false,
     "start_time": "2024-12-31T05:54:00.237758",
     "status": "completed"
    },
    "tags": []
   },
   "outputs": [
    {
     "data": {
      "text/plain": [
       "dtype('float64')"
      ]
     },
     "execution_count": 17,
     "metadata": {},
     "output_type": "execute_result"
    }
   ],
   "source": [
    "arr1 = np.array([1,2,3], dtype=np.float64)\n",
    "arr1.dtype"
   ]
  },
  {
   "cell_type": "code",
   "execution_count": 18,
   "id": "389dc186",
   "metadata": {
    "execution": {
     "iopub.execute_input": "2024-12-31T05:54:00.266391Z",
     "iopub.status.busy": "2024-12-31T05:54:00.266070Z",
     "iopub.status.idle": "2024-12-31T05:54:00.271911Z",
     "shell.execute_reply": "2024-12-31T05:54:00.271027Z"
    },
    "papermill": {
     "duration": 0.014725,
     "end_time": "2024-12-31T05:54:00.273492",
     "exception": false,
     "start_time": "2024-12-31T05:54:00.258767",
     "status": "completed"
    },
    "tags": []
   },
   "outputs": [
    {
     "data": {
      "text/plain": [
       "dtype('int64')"
      ]
     },
     "execution_count": 18,
     "metadata": {},
     "output_type": "execute_result"
    }
   ],
   "source": [
    "arr = np.array([1,2,3,4,5])\n",
    "arr.dtype"
   ]
  },
  {
   "cell_type": "code",
   "execution_count": 19,
   "id": "1c6e0315",
   "metadata": {
    "execution": {
     "iopub.execute_input": "2024-12-31T05:54:00.288157Z",
     "iopub.status.busy": "2024-12-31T05:54:00.287757Z",
     "iopub.status.idle": "2024-12-31T05:54:00.293731Z",
     "shell.execute_reply": "2024-12-31T05:54:00.292731Z"
    },
    "papermill": {
     "duration": 0.015052,
     "end_time": "2024-12-31T05:54:00.295313",
     "exception": false,
     "start_time": "2024-12-31T05:54:00.280261",
     "status": "completed"
    },
    "tags": []
   },
   "outputs": [
    {
     "data": {
      "text/plain": [
       "array([1., 2., 3., 4., 5.])"
      ]
     },
     "execution_count": 19,
     "metadata": {},
     "output_type": "execute_result"
    }
   ],
   "source": [
    "float_arr = arr.astype(np.float64)\n",
    "float_arr"
   ]
  },
  {
   "cell_type": "code",
   "execution_count": 20,
   "id": "3457d75a",
   "metadata": {
    "execution": {
     "iopub.execute_input": "2024-12-31T05:54:00.311731Z",
     "iopub.status.busy": "2024-12-31T05:54:00.311399Z",
     "iopub.status.idle": "2024-12-31T05:54:00.316870Z",
     "shell.execute_reply": "2024-12-31T05:54:00.315920Z"
    },
    "papermill": {
     "duration": 0.014714,
     "end_time": "2024-12-31T05:54:00.318459",
     "exception": false,
     "start_time": "2024-12-31T05:54:00.303745",
     "status": "completed"
    },
    "tags": []
   },
   "outputs": [
    {
     "data": {
      "text/plain": [
       "dtype('float64')"
      ]
     },
     "execution_count": 20,
     "metadata": {},
     "output_type": "execute_result"
    }
   ],
   "source": [
    "float_arr.dtype"
   ]
  },
  {
   "cell_type": "code",
   "execution_count": 21,
   "id": "d619f53c",
   "metadata": {
    "execution": {
     "iopub.execute_input": "2024-12-31T05:54:00.333877Z",
     "iopub.status.busy": "2024-12-31T05:54:00.333525Z",
     "iopub.status.idle": "2024-12-31T05:54:00.339316Z",
     "shell.execute_reply": "2024-12-31T05:54:00.338419Z"
    },
    "papermill": {
     "duration": 0.015046,
     "end_time": "2024-12-31T05:54:00.340881",
     "exception": false,
     "start_time": "2024-12-31T05:54:00.325835",
     "status": "completed"
    },
    "tags": []
   },
   "outputs": [
    {
     "data": {
      "text/plain": [
       "array([ 3.7, -1.2, -2.6,  0.5, 12.9, 10.1])"
      ]
     },
     "execution_count": 21,
     "metadata": {},
     "output_type": "execute_result"
    }
   ],
   "source": [
    "arr = np.array([3.7,-1.2,-2.6,0.5,12.9,10.1])\n",
    "arr"
   ]
  },
  {
   "cell_type": "code",
   "execution_count": 22,
   "id": "73d9e85e",
   "metadata": {
    "execution": {
     "iopub.execute_input": "2024-12-31T05:54:00.355909Z",
     "iopub.status.busy": "2024-12-31T05:54:00.355575Z",
     "iopub.status.idle": "2024-12-31T05:54:00.361496Z",
     "shell.execute_reply": "2024-12-31T05:54:00.360528Z"
    },
    "papermill": {
     "duration": 0.015351,
     "end_time": "2024-12-31T05:54:00.363127",
     "exception": false,
     "start_time": "2024-12-31T05:54:00.347776",
     "status": "completed"
    },
    "tags": []
   },
   "outputs": [
    {
     "data": {
      "text/plain": [
       "array([ 3, -1, -2,  0, 12, 10], dtype=int32)"
      ]
     },
     "execution_count": 22,
     "metadata": {},
     "output_type": "execute_result"
    }
   ],
   "source": [
    "arr.astype(np.int32)"
   ]
  },
  {
   "cell_type": "code",
   "execution_count": 23,
   "id": "0a2d23c6",
   "metadata": {
    "execution": {
     "iopub.execute_input": "2024-12-31T05:54:00.378467Z",
     "iopub.status.busy": "2024-12-31T05:54:00.378115Z",
     "iopub.status.idle": "2024-12-31T05:54:00.383819Z",
     "shell.execute_reply": "2024-12-31T05:54:00.382829Z"
    },
    "papermill": {
     "duration": 0.015195,
     "end_time": "2024-12-31T05:54:00.385372",
     "exception": false,
     "start_time": "2024-12-31T05:54:00.370177",
     "status": "completed"
    },
    "tags": []
   },
   "outputs": [
    {
     "data": {
      "text/plain": [
       "array([b'1.25', b'-9.6', b'42'], dtype='|S4')"
      ]
     },
     "execution_count": 23,
     "metadata": {},
     "output_type": "execute_result"
    }
   ],
   "source": [
    "numeric_string = np.array([\"1.25\",\"-9.6\",\"42\"],dtype=np.string_)\n",
    "numeric_string"
   ]
  },
  {
   "cell_type": "code",
   "execution_count": 24,
   "id": "d6f4f54a",
   "metadata": {
    "execution": {
     "iopub.execute_input": "2024-12-31T05:54:00.401217Z",
     "iopub.status.busy": "2024-12-31T05:54:00.400820Z",
     "iopub.status.idle": "2024-12-31T05:54:00.406408Z",
     "shell.execute_reply": "2024-12-31T05:54:00.405451Z"
    },
    "papermill": {
     "duration": 0.015314,
     "end_time": "2024-12-31T05:54:00.408103",
     "exception": false,
     "start_time": "2024-12-31T05:54:00.392789",
     "status": "completed"
    },
    "tags": []
   },
   "outputs": [
    {
     "data": {
      "text/plain": [
       "array([ 1.25, -9.6 , 42.  ])"
      ]
     },
     "execution_count": 24,
     "metadata": {},
     "output_type": "execute_result"
    }
   ],
   "source": [
    "numeric_string.astype(float)"
   ]
  },
  {
   "cell_type": "code",
   "execution_count": 25,
   "id": "28a2b9d4",
   "metadata": {
    "execution": {
     "iopub.execute_input": "2024-12-31T05:54:00.426680Z",
     "iopub.status.busy": "2024-12-31T05:54:00.426280Z",
     "iopub.status.idle": "2024-12-31T05:54:00.433049Z",
     "shell.execute_reply": "2024-12-31T05:54:00.432028Z"
    },
    "papermill": {
     "duration": 0.018947,
     "end_time": "2024-12-31T05:54:00.434516",
     "exception": false,
     "start_time": "2024-12-31T05:54:00.415569",
     "status": "completed"
    },
    "tags": []
   },
   "outputs": [
    {
     "data": {
      "text/plain": [
       "array([0., 1., 2., 3., 4., 5., 6., 7., 8., 9.])"
      ]
     },
     "execution_count": 25,
     "metadata": {},
     "output_type": "execute_result"
    }
   ],
   "source": [
    "int_array = np.arange(10)\n",
    "calibers = np.array([.22,.270,.357,.380,.44,.50],dtype=np.float64)\n",
    "int_array.astype(calibers.dtype)"
   ]
  },
  {
   "cell_type": "code",
   "execution_count": 26,
   "id": "f4763b63",
   "metadata": {
    "execution": {
     "iopub.execute_input": "2024-12-31T05:54:00.450364Z",
     "iopub.status.busy": "2024-12-31T05:54:00.450011Z",
     "iopub.status.idle": "2024-12-31T05:54:00.455445Z",
     "shell.execute_reply": "2024-12-31T05:54:00.454473Z"
    },
    "papermill": {
     "duration": 0.01519,
     "end_time": "2024-12-31T05:54:00.457123",
     "exception": false,
     "start_time": "2024-12-31T05:54:00.441933",
     "status": "completed"
    },
    "tags": []
   },
   "outputs": [
    {
     "data": {
      "text/plain": [
       "array([0, 0, 0, 0, 0, 0, 0, 0], dtype=uint32)"
      ]
     },
     "execution_count": 26,
     "metadata": {},
     "output_type": "execute_result"
    }
   ],
   "source": [
    "zeros_unit32 = np.zeros(8,dtype=\"u4\")\n",
    "zeros_unit32"
   ]
  }
 ],
 "metadata": {
  "kaggle": {
   "accelerator": "none",
   "dataSources": [],
   "dockerImageVersionId": 30822,
   "isGpuEnabled": false,
   "isInternetEnabled": true,
   "language": "python",
   "sourceType": "notebook"
  },
  "kernelspec": {
   "display_name": "Python 3",
   "language": "python",
   "name": "python3"
  },
  "language_info": {
   "codemirror_mode": {
    "name": "ipython",
    "version": 3
   },
   "file_extension": ".py",
   "mimetype": "text/x-python",
   "name": "python",
   "nbconvert_exporter": "python",
   "pygments_lexer": "ipython3",
   "version": "3.10.12"
  },
  "papermill": {
   "default_parameters": {},
   "duration": 3.574877,
   "end_time": "2024-12-31T05:54:00.984901",
   "environment_variables": {},
   "exception": null,
   "input_path": "__notebook__.ipynb",
   "output_path": "__notebook__.ipynb",
   "parameters": {},
   "start_time": "2024-12-31T05:53:57.410024",
   "version": "2.6.0"
  }
 },
 "nbformat": 4,
 "nbformat_minor": 5
}
